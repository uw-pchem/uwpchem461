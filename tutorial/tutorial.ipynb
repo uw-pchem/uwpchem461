{
 "cells": [
  {
   "cell_type": "markdown",
   "id": "e6f3f426-e0d4-4d0c-a110-3b8369054a05",
   "metadata": {},
   "source": [
    "# Python Basics Tutorial\n",
    "## Welcome!\n",
    "### CHEM461\n",
    "\n",
    "This online space is a “Jupyter notebook” that uses Python. It introduces you to some central skills in data plotting and analysis that you need for CHEM461. This notebook is written to serve all students, whether you have extensive coding experience or none at all. The only items you will turn in for a grade are described in three \"checkpoints\" in the notebook.\n",
    "\n",
    "• If you have expertise in coding in Python, feel free to simply skim the contents of the notebook while you jump ahead to complete the assignments at \"CHECKPOINT 1\",  \"CHECKPOINT 2\", and \"CHECKPOINT 3\". \n",
    "\n",
    "• If you have never coded in Python, no worries! This notebook gives you friendly step-by-step introductions to most of the coding and plotting basics you will need for completing experiments in CHEM461.\n",
    "\n",
    "This notebook was written by Sarah Keller and C. Praise Anyanwu."
   ]
  },
  {
   "cell_type": "markdown",
   "id": "5cbb202a-0c82-45d3-8769-7f9885651cc1",
   "metadata": {},
   "source": [
    "## Importing two Python modules\n",
    "<span style=\"font-family:TImes New Roman; font-size:1.25em;\">\n",
    "    In Python, users either write their own code or they can use code someone else has written. In CHEM461, we will use a lot of code from others. That code is stored in modules (or packages) that must be imported before you can use it. For example, the first command in the cell below (the gray box) below imports a module that is commonly used for plotting, and the second imports a module popular for manipulating numbers (especially arrays).  \n",
    "    <br \\>\n",
    "    <br \\>\n",
    "    <b>TRY THIS:</b> To run the code (the commands) in the cell below, click your cursor somewhere in the box and hit</span> \n",
    "    shift-return\n",
    "    <span style=\"font-family:TImes New Roman; font-size:1.25em;\">\n",
    "    (or </span>shift-enter\n",
    "    <span style=\"font-family:TImes New Roman; font-size:1.25em;\">\n",
    ") on your keyboard. For these particular commands, it will appear as if nothing happened. If you get logged out of this tutorial and enter again, Python will not remember that you ran this code, and you will have to run it again (which is easy to do).\n",
    "    <br \\>    \n",
    "    <br \\>\n",
    "    OPTIONAL: If you are ever worried that the module did not import, you can ask python for help on the module. For example, if you were to add the following new line of code</span>\n",
    "`help(np)`\n",
    "<span style=\"font-family:TImes New Roman; font-size:1.25em;\">\n",
    "in the cell and run the code again, it would tell you a ton of information about the module. If you had not imported the module, it would not be able to give you help on that module. If you decide that you don't want to see the help information anymore, you can delete the </span>\n",
    "`help(np)`\n",
    "<span style=\"font-family:TImes New Roman; font-size:1.25em;\"> command and run the original commands in the cell again.\n",
    "</span>"
   ]
  },
  {
   "cell_type": "code",
   "execution_count": 1,
   "id": "284f7282-8ed9-448b-aee5-e7d1509e3adc",
   "metadata": {},
   "outputs": [],
   "source": [
    "import matplotlib.pyplot as plt\n",
    "import numpy as np"
   ]
  },
  {
   "cell_type": "markdown",
   "id": "0151dc00-89cc-4e56-b0b2-e821473f324f",
   "metadata": {},
   "source": [
    "<span style=\"font-family:TImes New Roman; font-size:1.25em;\">\n",
    "    What did the code above do? The first line imported the Python module </span>\n",
    "`matplotlib.pyplot`\n",
    "<span style=\"font-family:TImes New Roman; font-size:1.25em;\"> \n",
    "and gave it the shorter nickname (or alias) </span>\n",
    "`plt`.\n",
    "<span style=\"font-family:TImes New Roman; font-size:1.25em;\">\n",
    "From now on in this notebook, when you need to use </span>\n",
    "`matplotlib.pyplot`\n",
    "<span style=\"font-family:TImes New Roman; font-size:1.25em;\"> \n",
    "you will just type\n",
    "</span>\n",
    "`plt`. \n",
    "<span style=\"font-family:TImes New Roman; font-size:1.25em;\">\n",
    "Similarly, to use </span>\n",
    "`numpy`\n",
    "<span style=\"font-family:TImes New Roman; font-size:1.25em;\"> \n",
    "you will type\n",
    "</span>\n",
    "`np`."
   ]
  },
  {
   "cell_type": "markdown",
   "id": "8f613c65-a5b5-4315-b228-4c5525e925dd",
   "metadata": {},
   "source": [
    "## Retrieving values from a dataset\n",
    "<span style=\"font-family:TImes New Roman; font-size:1.25em;\">\n",
    "The command in the cell below takes twelve {x, y} coordinates and places them in a (numpy) array with the variable name </span>\n",
    "`dataset`.\n",
    "<span style=\"font-family:TImes New Roman; font-size:1.25em;\">\n",
    "For example, the eighth data point has x = 10, y = 6. \n",
    "<br \\>\n",
    "<br \\>\n",
    "<b>TRY THIS:</b> Run the command in the cell below. For this particular command, it will appear as if nothing happened. \n",
    "</span>"
   ]
  },
  {
   "cell_type": "code",
   "execution_count": 2,
   "id": "e58b1cbf-b7aa-477c-b623-61bc1d53e738",
   "metadata": {},
   "outputs": [],
   "source": [
    "dataset = np.array([[1, 3], [2, 3], [3, 3], [5, 3], [6, 3], [7, 3], [9, 5], [10, 6], \n",
    "                    [11, 7], [13, 9], [14, 9], [15, 9]])"
   ]
  },
  {
   "cell_type": "markdown",
   "id": "2e3156d9-2edf-44f4-9108-fb7b9f7dd509",
   "metadata": {},
   "source": [
    "<span style=\"font-family:TImes New Roman; font-size:1.25em;\">\n",
    "<b>TRY THIS:</b> For any variable, you can check which numbers are stored in that variable by using the variable’s name as a command. Doing so prints the contents of the variable. Run the command in the cell below.\n",
    "</span>"
   ]
  },
  {
   "cell_type": "code",
   "execution_count": 3,
   "id": "33925e23-f6ea-4377-bf72-58c54b8865b0",
   "metadata": {},
   "outputs": [
    {
     "data": {
      "text/plain": [
       "array([[ 1,  3],\n",
       "       [ 2,  3],\n",
       "       [ 3,  3],\n",
       "       [ 5,  3],\n",
       "       [ 6,  3],\n",
       "       [ 7,  3],\n",
       "       [ 9,  5],\n",
       "       [10,  6],\n",
       "       [11,  7],\n",
       "       [13,  9],\n",
       "       [14,  9],\n",
       "       [15,  9]])"
      ]
     },
     "execution_count": 3,
     "metadata": {},
     "output_type": "execute_result"
    }
   ],
   "source": [
    "dataset"
   ]
  },
  {
   "cell_type": "markdown",
   "id": "2b69fa61-c64e-4f30-83d7-f41239b1367d",
   "metadata": {},
   "source": [
    "<span style=\"font-family:TImes New Roman; font-size:1.25em;\">\n",
    "What happened? If everything worked correctly, then you should see that the numpy array stacked all the x-values in the first column and the y-values in the second column. \n",
    "</span>\n",
    "</br>\n",
    "</br>\n",
    "<span style=\"font-family:TImes New Roman; font-size:1.25em;\">\n",
    "<b>TRY THIS:</b>\n",
    "Run the command in the grey cell below to get Python to put the x-value of the eighth data point into a variable called </span>\n",
    "‘xEighth’<span style=\"font-family:TImes New Roman; font-size:1.25em;\">\n",
    ". From the array above, you already know that the value should be ‘10’, right? (If this confuses you, please ask.) That value is stored in the in the <b>eighth</b> row and the <b>first</b> column. Notice that the particular command you will be running is:\n",
    "</span>\n",
    "<br \\>\n",
    "<br \\>\n",
    "`xEighth = dataset[7, 0]`. \n",
    "<br \\>\n",
    "<br \\>\n",
    "<span style=\"font-family:TImes New Roman; font-size:1.25em;\">\n",
    "Wait! Why do you use [7, 0] instead of [8, 1]?! \n",
    "It is because Python starts counting from 0, not from 1!\n",
    "</span>"
   ]
  },
  {
   "cell_type": "code",
   "execution_count": 4,
   "id": "cf854511-3a28-418c-9aa0-5b9dcc6258a1",
   "metadata": {},
   "outputs": [],
   "source": [
    "xEighth = dataset[7, 0]"
   ]
  },
  {
   "cell_type": "markdown",
   "id": "9b22c552-6faf-4255-9193-32ddaa760514",
   "metadata": {},
   "source": [
    "<span style=\"font-family:TImes New Roman; font-size:1.25em;\">\n",
    "<b>TRY THIS:</b> Verify that the number 10 really is stored in the variable called </span>\n",
    "‘xEighth’\n",
    "<span style=\"font-family:TImes New Roman; font-size:1.25em;\">\n",
    "by running the command below.</span>"
   ]
  },
  {
   "cell_type": "code",
   "execution_count": 5,
   "id": "968e2dc9-c948-4fd8-8bf5-cec4d086d920",
   "metadata": {},
   "outputs": [
    {
     "data": {
      "text/plain": [
       "10"
      ]
     },
     "execution_count": 5,
     "metadata": {},
     "output_type": "execute_result"
    }
   ],
   "source": [
    "xEighth"
   ]
  },
  {
   "cell_type": "markdown",
   "id": "75f9fa3c-cd72-4bbc-afb3-f8e2aea273f0",
   "metadata": {},
   "source": [
    "<span style=\"font-family:TImes New Roman; font-size:1.25em;\">\n",
    "<b>YOUR TURN:</b> In the cell below, write lines of code that puts the y-value of the ninth point into a variable called</span>\n",
    "‘yNinth’\n",
    "<span style=\"font-family:TImes New Roman; font-size:1.25em;\"> and then prints it out. Then run your code and verify that it outputs the number you expect.</span>"
   ]
  },
  {
   "cell_type": "code",
   "execution_count": 6,
   "id": "c94284a2-168f-4619-9f75-7e80ecbf4cac",
   "metadata": {},
   "outputs": [],
   "source": [
    "# Write your own code here"
   ]
  },
  {
   "cell_type": "markdown",
   "id": "7819bf40-94b6-42f7-8104-9cc8e0d4b3ff",
   "metadata": {},
   "source": [
    "<span style=\"font-family:TImes New Roman; font-size:1.25em;\">\n",
    "<b>TRY THIS:</b> Run the commands in the cell below to put all numbers from only the first column (the x-values) into an array called  </span>\n",
    "`xdata`\n",
    "<span style=\"font-family:TImes New Roman; font-size:1.25em;\">\n",
    "and then print the contents of </span>\n",
    "‘xdata’."
   ]
  },
  {
   "cell_type": "code",
   "execution_count": 7,
   "id": "67fdd818-30f6-4ba6-ab54-6113fd58aa57",
   "metadata": {},
   "outputs": [
    {
     "data": {
      "text/plain": [
       "array([ 1,  2,  3,  5,  6,  7,  9, 10, 11, 13, 14, 15])"
      ]
     },
     "execution_count": 7,
     "metadata": {},
     "output_type": "execute_result"
    }
   ],
   "source": [
    "xdata = dataset[:, 0]\n",
    "xdata"
   ]
  },
  {
   "cell_type": "markdown",
   "id": "35df643f-3fa4-4705-a7e1-2dd692b5ef65",
   "metadata": {},
   "source": [
    "<span style=\"font-family:TImes New Roman; font-size:1.25em;\">\n",
    "<b>YOUR TURN:</b> In the cell below, write lines of code that assigns all y-values from the data set into an array called </span>\n",
    "`ydata`\n",
    "<span style=\"font-family:TImes New Roman; font-size:1.25em;\">\n",
    "and prints out the contents of </span>\n",
    "‘ydata’\n",
    "<span style=\"font-family:TImes New Roman; font-size:1.25em;\">\n",
    ". Then run your code.</span>"
   ]
  },
  {
   "cell_type": "code",
   "execution_count": 8,
   "id": "d6d358d7-4038-4a6c-a716-fbdb0e4d29a8",
   "metadata": {},
   "outputs": [
    {
     "data": {
      "text/plain": [
       "array([3, 3, 3, 3, 3, 3, 5, 6, 7, 9, 9, 9])"
      ]
     },
     "execution_count": 8,
     "metadata": {},
     "output_type": "execute_result"
    }
   ],
   "source": [
    "# Write your own code here\n",
    "ydata = dataset[:, 1]\n",
    "ydata"
   ]
  },
  {
   "cell_type": "markdown",
   "id": "445e0ea0-b210-4c79-810f-3ad8c0b0e8af",
   "metadata": {},
   "source": [
    "## Plotting a dataset"
   ]
  },
  {
   "cell_type": "markdown",
   "id": "945fa5e3-26c5-4c69-8621-33120bf112e4",
   "metadata": {},
   "source": [
    "<span style=\"font-family:TImes New Roman; font-size:1.25em;\">\n",
    "When researchers want to publish their data in scientific journals, they have to produce valid data and then plot them in graphs that look professional. The module </span>\n",
    "`plt`\n",
    "<span style=\"font-family:TImes New Roman; font-size:1.25em;\">\n",
    "has several features that allow you to make graphs that look more professional. We will start to learn some of them here.\n",
    "    <br \\>\n",
    "    <br \\>\n",
    "<b>TRY THIS:</b> Run the command</span>\n",
    "`plt.plot()`\n",
    "<span style=\"font-family:TImes New Roman; font-size:1.25em;\">\n",
    "in the cell below to make a very basic plot of</span>\n",
    "xdata\n",
    "<span style=\"font-family:TImes New Roman; font-size:1.25em;\">vs.</span>\n",
    "ydata."
   ]
  },
  {
   "cell_type": "code",
   "execution_count": 9,
   "id": "22b8980d-9b28-426c-8645-4e0d2a295ad2",
   "metadata": {},
   "outputs": [
    {
     "data": {
      "text/plain": [
       "[<matplotlib.lines.Line2D at 0x7f6424a3c760>]"
      ]
     },
     "execution_count": 9,
     "metadata": {},
     "output_type": "execute_result"
    },
    {
     "data": {
      "image/png": "[encoded data removed]",
      "text/plain": [
       "<Figure size 640x480 with 1 Axes>"
      ]
     },
     "metadata": {},
     "output_type": "display_data"
    }
   ],
   "source": [
    "plt.plot(xdata, ydata)"
   ]
  },
  {
   "cell_type": "markdown",
   "id": "122fc56e-dcb0-408f-b6d9-2756b91307ae",
   "metadata": {},
   "source": [
    "<span style=\"font-family:TImes New Roman; font-size:1.25em;\">\n",
    "The graph above does a terrible job of accurately conveying that the data is made of individual points rather than lines, and it does not label the axes. We need skills to do this, plus the ability to plot two data sets on top of each other.\n",
    "    <br \\>\n",
    "    <br \\>\n",
    "    To manipulate a graph, the best practice is to name a figure (also known as giving it a handle or an instance) and to also name its axes. Then you write separate commands that change attributes of those axes.\n",
    "    <br \\>\n",
    "    <br \\>\n",
    "    For example, in the cell below:<br \\>\n",
    "    • Line 1 creates a new data set with the coordinates for a flat line<br \\>\n",
    "    • Lines 2 and 3 put all the x-coordinates and y-coordinates in the variables </span>\n",
    "`xflatline` & `yflatline`.\n",
    "<span style=\"font-family:TImes New Roman; font-size:1.25em;\"><br \\>\n",
    "    • Line 4 creates a handle for figure 1 and its axes. It uses the command </span>\n",
    "`plt.subplots`\n",
    "<span style=\"font-family:TImes New Roman; font-size:1.25em;\">\n",
    ", which gives you flexibility in the future to arrange more than one plot in one figure.<br \\>\n",
    "• Line 5 says that the original data set should be plotted in blue circles ('o') connected by a dashed, thick (2), blue line.<br \\>\n",
    "    • Line 6 says the data for the flat line should be plotted in red squares ('s') connected by a dashed, thin (1), red line.<br \\>\n",
    "• Lines 7 and 8 label the axes.<br \\>\n",
    "• Line 9 makes a legend that uses the names at the end of lines 5 and 6. </br>\n",
    "• Line 10 puts a label at location x = 1 and y = 7, with huge (size = 20) text.\n",
    "    <br \\>\n",
    "    <br \\>\n",
    "<b>TRY THIS:</b> Run the commands in the cell below\n",
    "</span>"
   ]
  },
  {
   "cell_type": "code",
   "execution_count": 10,
   "id": "dd3a2b74-6fca-4363-875c-193b2335c294",
   "metadata": {},
   "outputs": [
    {
     "data": {
      "text/plain": [
       "Text(1, 7, 'Figure 1')"
      ]
     },
     "execution_count": 10,
     "metadata": {},
     "output_type": "execute_result"
    },
    {
     "data": {
      "image/png": "[encoded data removed]",
      "text/plain": [
       "<Figure size 640x480 with 1 Axes>"
      ]
     },
     "metadata": {},
     "output_type": "display_data"
    }
   ],
   "source": [
    "# THIS IS FIGURE 1\n",
    "\n",
    "flatline = np.array([[2, 8], [14, 8]])                                 #Line 1\n",
    "xflatline = flatline[:, 0]                                             #Line 2\n",
    "yflatline = flatline[:, 1]                                             #Line 3\n",
    "\n",
    "fig1, fig1ax = plt.subplots()                                          #Line 4\n",
    "fig1ax.plot(xdata, ydata, \n",
    "        linestyle='dashed', linewidth=2, color='blue', marker='o', label='dataset')   #Line 5\n",
    "fig1ax.plot(xflatline, yflatline, \n",
    "        linestyle='dashed', linewidth=1, color='red', marker='s', label='flat line')  #Line 6\n",
    "fig1ax.set_xlabel('x [unitless]')                                      #Line 7\n",
    "fig1ax.set_ylabel('y [unitless]')                                      #Line 8\n",
    "fig1ax.legend()                                                        #Line 9\n",
    "fig1ax.text(1, 7, 'Figure 1', dict(size=20))                           #Line 10"
   ]
  },
  {
   "cell_type": "markdown",
   "id": "cc313051-a1fb-44fe-bc7d-21507c1e53b5",
   "metadata": {},
   "source": [
    "<span style=\"font-family:TImes New Roman; font-size:1.25em;\">\n",
    "• Here is a link to a \n",
    "<a href=\"https://matplotlib.org/stable/api/markers_api.html\" target=\"_blank\">list of different plotting symbols</a> (called \"markers\" in Python).\n",
    "    <br \\>\n",
    "• Here is a link to \n",
    "<a href=\"https://matplotlib.org/stable/gallery/color/named_colors.html\" target=\"_blank\">one list </a> and <a href=\"https://matplotlib.org/stable/users/explain/colors/colors.html\" target=\"_blank\">another list</a> of colors in Python plots. It is best practice to avoid using a light color (like white, yellow, or cyan) for a symbol or line that is on a white background, because the contrast is poor.\n",
    "    \n",
    "• Here is a link to a list of\n",
    "<a href=\"https://matplotlib.org/stable/gallery/lines_bars_and_markers/linestyles.html\" target=\"blank\">line styles</a> in Python plots.\n",
    "\n",
    "• Here is a link to a more complete (but somewhat overwhelming)\n",
    "<a href=\"https://matplotlib.org/3.5.3/api/_as_gen/matplotlib.pyplot.html\" target=\"_blank\">list of python commands for modifying graphs</a>"
   ]
  },
  {
   "cell_type": "markdown",
   "id": "1ea2d3c3-9909-466f-9d83-f730c855f009",
   "metadata": {},
   "source": [
    "## CHECKPOINT 1\n",
    "\n",
    "<span style=\"font-family:TImes New Roman; font-size:1.25em;\">\n",
    "In this checkpoint, you will make a figure that plots your own, personal data sets, and you will turn in the figure on Canvas. </br>\n",
    "    (1) Open a separate window for the Canvas site for this course. </br>\n",
    "    (2) Go to the Canvas assignment named \"Your Data for Checkpoint 1\". The \"grade\" you've been given for this assignment is actually a number that corresponds to your personal datasets. </br>\n",
    "    (3) Open the Excel spreadsheet in the assignment titled \"Checkpoint 1 of Python Tutorial\" and get the data sets corresponding to the number in Step 2. </br>\n",
    "    (4) In the grey cell below, write lines of Python code that make Figure 2. In this figure, plot the three data sets on top of each other, using the specified markers and lines for each data set. Label the x-axis as \"x [unitless]\" and the y-axis \"y [unitless]. </br>\n",
    "    (5) Make a single, one-page .pdf file with your code and your graph (these can come from screenshots). Turn in this .pdf on Canvas at the Checkpoint 1 of Python Tutorial assignment. </br>\n",
    "    (6) If you are doing this assignment during a tutorial, you are welcome to show your plot to your instructor and/or teaching assistant before going on to the next section.</span>"
   ]
  },
  {
   "cell_type": "code",
   "execution_count": 11,
   "id": "4b6a6f1f-d9ba-426f-a1b9-c4d292756f9e",
   "metadata": {
    "scrolled": true
   },
   "outputs": [],
   "source": [
    "# Type the number of the data set you were assigned here: ____\n",
    "# Then write your own code in this cell for Checkpoint 1.\n"
   ]
  },
  {
   "cell_type": "markdown",
   "id": "e69c935b-3345-4b86-9e0e-cc647be4e17f",
   "metadata": {},
   "source": [
    "## Using Simple Statistical and Mathematical Functions\n",
    "\n",
    "<span style=\"font-family:TImes New Roman; font-size:1.25em;\">\n",
    "\n",
    "Every experiment in this course entails analyzing data. Often, you will fit a \"model\" to data in order to extract crucial scientific values (e.g., temperature changes, the constants, vibrational or rotational transition energies, or theoretical parameters) and the error or uncertainty of those values.</span>\n",
    "\n",
    "<span style=\"font-family:TImes New Roman; font-size:1.25em;\">\n",
    "The examples below use the same </span>\n",
    "xdata & ydata\n",
    "\n",
    "<span style=\"font-family:TImes New Roman; font-size:1.25em;\">\n",
    "arrays you made in a previous section to help you learn about some of the modules in the </span>\n",
    "`numpy`\n",
    "<span style=\"font-family:TImes New Roman; font-size:1.25em;\">\n",
    "package that you are most likely to use.</span>"
   ]
  },
  {
   "cell_type": "markdown",
   "id": "6cf63d8e-e90b-49ac-af21-4ebf2bfe69c8",
   "metadata": {},
   "source": [
    "<span style=\"font-family:TImes New Roman; font-size:1.25em;\">\n",
    "<b>TRY THIS: </b>Run the commands in the cell below to find the <b>mean</b> of all the </span>\n",
    "xdata.\n",
    "\n",
    "<span style=\"font-family:TImes New Roman; font-size:1.25em;\">\n",
    "Compare the value you get with the first plot you made. Does it look reasonable or not?"
   ]
  },
  {
   "cell_type": "code",
   "execution_count": 12,
   "id": "db3f6cf3-8ad7-4bd7-af20-d6de2265d046",
   "metadata": {},
   "outputs": [
    {
     "data": {
      "text/plain": [
       "8.0"
      ]
     },
     "execution_count": 12,
     "metadata": {},
     "output_type": "execute_result"
    }
   ],
   "source": [
    "xmean = np.mean(xdata)\n",
    "xmean"
   ]
  },
  {
   "cell_type": "markdown",
   "id": "7453e281-0e41-463d-ac14-6026f3ca62c9",
   "metadata": {},
   "source": [
    "<span style=\"font-family:TImes New Roman; font-size:1.25em;\">\n",
    "<b>TRY THIS: </b>Run the commands in the cell below to find the <b>standard deviation</b> of all the </span>\n",
    "xdata.\n",
    "\n",
    "<span style=\"font-family:TImes New Roman; font-size:1.25em;\">\n",
    "Compare the value you get with the first plot you made. Does it look reasonable or not?"
   ]
  },
  {
   "cell_type": "code",
   "execution_count": 13,
   "id": "afd1b19b-36a3-4ddd-9a47-72eebec31945",
   "metadata": {},
   "outputs": [
    {
     "data": {
      "text/plain": [
       "4.546060565661952"
      ]
     },
     "execution_count": 13,
     "metadata": {},
     "output_type": "execute_result"
    }
   ],
   "source": [
    "xstd = np.std(xdata)\n",
    "xstd"
   ]
  },
  {
   "cell_type": "markdown",
   "id": "a39c29bb-7eaf-4bfb-ae0e-aac2e3d670b7",
   "metadata": {},
   "source": [
    "<span style=\"font-family:TImes New Roman; font-size:1.25em;\">\n",
    "<b>TRY THIS: </b>Run the commands in the cell below to find the <b>median</b> of all the </span>\n",
    "xdata.\n",
    "\n",
    "<span style=\"font-family:TImes New Roman; font-size:1.25em;\">\n",
    "Compare the value you get with the first plot you made. Does it look reasonable or not?"
   ]
  },
  {
   "cell_type": "code",
   "execution_count": 14,
   "id": "40e9e657-8711-4494-a1eb-30c08e8d0a09",
   "metadata": {},
   "outputs": [
    {
     "data": {
      "text/plain": [
       "8.0"
      ]
     },
     "execution_count": 14,
     "metadata": {},
     "output_type": "execute_result"
    }
   ],
   "source": [
    "xmedian = np.median(xdata)\n",
    "xmedian"
   ]
  },
  {
   "cell_type": "markdown",
   "id": "0fdd8391-8460-477a-8d3b-168fccb9d1c0",
   "metadata": {},
   "source": [
    "<span style=\"font-family:TImes New Roman; font-size:1.25em;\">\n",
    "<b>TRY THIS: </b>Run the commands in the cell below to define a wacky variable called </span>\n",
    "wacky\n",
    "    \n",
    "<span style=\"font-family:TImes New Roman; font-size:1.25em;\">\n",
    "that is equal to three times the cubed root of the median of all the </span>\n",
    "xdata.\n",
    "\n",
    "<span style=\"font-family:TImes New Roman; font-size:1.25em;\"> \n",
    "Does it give you the value you expect? Notice that you cannot use the same syntax as in Excel: a cubed root in Excel is \"^(1/3)\", whereas in Python it is \"**(1/3)\"."
   ]
  },
  {
   "cell_type": "code",
   "execution_count": 15,
   "id": "55f27f4f-c25e-43ce-a63a-a849411a6517",
   "metadata": {},
   "outputs": [
    {
     "data": {
      "text/plain": [
       "6.0"
      ]
     },
     "execution_count": 15,
     "metadata": {},
     "output_type": "execute_result"
    }
   ],
   "source": [
    "wacky = 3*(xmedian)**(1/3)\n",
    "wacky"
   ]
  },
  {
   "cell_type": "markdown",
   "id": "22064554-ccde-4ab5-a0b9-782353e90b68",
   "metadata": {},
   "source": [
    "## CHECKPOINT 2\n",
    "\n",
    "<span style=\"font-family:TImes New Roman; font-size:1.25em;\">\n",
    "<b>YOUR TURN:</b> In this checkpoint, you will find statistical values from your own, personal data sets, and you will turn them in on Canvas. (1) Combine all three of the personal datasets you were assigned in Checkpoint 1 into one dataset. (2) In the cell below, write lines of Python code that find the median, mean, standard deviation, and variance of all y-values in your combined dataset. (Hint: to find the variance, you do not necessarily need to know a specific Python command.) (3) Take a screenshot of your code and its output, and convert it into a single, one-page .pdf file. (5) Turn in your .pdf on Canvas at the Checkpoint 2 Submission assignment. \n",
    "</span>"
   ]
  },
  {
   "cell_type": "code",
   "execution_count": 16,
   "id": "475553df-c7e9-4e0e-9eed-902920c0d58d",
   "metadata": {},
   "outputs": [],
   "source": [
    "# Type the number of the data set you were assigned here: ____\n",
    "# Then write your own code in this cell for Checkpoint 2.\n"
   ]
  },
  {
   "cell_type": "markdown",
   "id": "6830371b-444c-4e0a-870b-85e1da703667",
   "metadata": {},
   "source": [
    "## Fitting Data to a Linear Function\n",
    "\n",
    "<span style=\"font-family:TImes New Roman; font-size:1.25em;\">\n",
    "<b>TRY THIS:</b> Run the line of code in the cell below to import the Python package </span>\n",
    "`scipy`,\n",
    "\n",
    "<span style=\"font-family:TImes New Roman; font-size:1.25em;\">\n",
    "which is useful for fitting procedures and for error analyses. Notice that we've given the package the shorter nickname (or alias) </span>\n",
    "`sp`.\n",
    "<span style=\"font-family:TImes New Roman; font-size:1.25em;\">"
   ]
  },
  {
   "cell_type": "code",
   "execution_count": 17,
   "id": "7367751d-9451-40ac-af80-2d222cebb0a3",
   "metadata": {},
   "outputs": [],
   "source": [
    "import scipy as sp"
   ]
  },
  {
   "cell_type": "markdown",
   "id": "52fe9c20-692c-4675-940c-498623f8d203",
   "metadata": {},
   "source": [
    "<span style=\"font-family:TImes New Roman; font-size:1.25em;\">\n",
    "Let's say that we have a bunch of data that should fall on a line $y = mx + b$ and that we'd like to know what the values for the slope $m$ and intercept $b$, as well as the uncertainties in those values $\\sigma_m$ and $\\sigma_b$.\n",
    "</span>\n",
    "</br>\n",
    "</br>\n",
    "<span style=\"font-family:TImes New Roman; font-size:1.25em;\">\n",
    "In this example, the <b>model</b> is the linear function $y = mx + b$.\n",
    "</br>\n",
    "The <b>parameters</b> are $m$ and $b$, and parameters are often denoted in code as </span>`pars`.\n",
    "</br>\n",
    "</br>\n",
    "<span style=\"font-family:TImes New Roman; font-size:1.25em;\">\n",
    "When a data are fit to the linear model $y = mx + b$, the fitting procedure should finds optimal values of the slope $m$ and intercept $b$, so that when $x = x_{\\mathrm{data}}$, then $y \\approx y_{\\mathrm{data}}$.\n",
    "</br>\n",
    "</br>\n",
    "<b>TRY THIS:</b> Run the line of code in the cell below to define the function </span>\n",
    "`linearfunc`."
   ]
  },
  {
   "cell_type": "markdown",
   "id": "e82ecb34-8931-4b52-8dec-42e7d0a1d5fc",
   "metadata": {},
   "source": [
    "### Defining a sample function in Python"
   ]
  },
  {
   "cell_type": "code",
   "execution_count": 18,
   "id": "0c154e8c-1baa-4e9d-9994-437d9115f8b8",
   "metadata": {},
   "outputs": [],
   "source": [
    "def linearfunc(x, m, b):\n",
    "    \"\"\"\n",
    "    This is the comment section that explains this code.\n",
    "    This code computes a y-value on a line using the equation of a line.\n",
    "    Input:\n",
    "    x is an n x 1 numpy array, where n is the number of x-values\n",
    "    m is a scalar, the slope of a line\n",
    "    b is a scalar, the intercept of a line\n",
    "    Output:\n",
    "    y is an n x 1 array, where n is the number of y-values\n",
    "    \"\"\"\n",
    "    # the function\n",
    "    y = m*x + b\n",
    "\n",
    "    return y"
   ]
  },
  {
   "cell_type": "markdown",
   "id": "1545daec-5b7b-49d8-8797-07e5a0a2f8f6",
   "metadata": {},
   "source": [
    "<span style=\"font-family:TImes New Roman; font-size:1.25em;\">\n",
    "The code above illustrates the structure of a python function: \n",
    "</br>\n",
    "• The function named </span>`linearfunc`,\n",
    "<span style=\"font-family:TImes New Roman; font-size:1.25em;\">\n",
    "and its  arguments </span>`x, m, b`\n",
    "<span style=\"font-family:TImes New Roman; font-size:1.25em;\"> are defined as follows: </span>\n",
    "`def linearfunc(x, pars):`\n",
    "</br>\n",
    "\n",
    "<span style=\"font-family:TImes New Roman; font-size:1.25em;\">\n",
    "• The beginning and end of comment section are bounded by three sets of quotation marks: </span>\n",
    "`\"\"\"`\n",
    "</br> \n",
    "<span style=\"font-family:TImes New Roman; font-size:1.25em;\">\n",
    "• Comments within the coding section are demarked with a </span>`#`\n",
    "<span style=\"font-family:TImes New Roman; font-size:1.25em;\">character.</span>\n",
    "</br> \n",
    "<span style=\"font-family:TImes New Roman; font-size:1.25em;\">\n",
    "• The output variable </span>\n",
    "`y`\n",
    "<span style=\"font-family:TImes New Roman; font-size:1.25em;\">\n",
    "is returned to you in the statement\n",
    "</span>\n",
    "`return y`"
   ]
  },
  {
   "cell_type": "markdown",
   "id": "dc54c86b-a300-4263-9a42-45940fe627d7",
   "metadata": {},
   "source": [
    "### Plotting the output of a sample function in Python\n",
    "\n",
    "<span style=\"font-family:TImes New Roman; font-size:1.25em;\">\n",
    "Let's return to our sample array </span>`dataset`.\n",
    "</br>\n",
    "</br>\n",
    "<span style=\"font-family:TImes New Roman; font-size:1.25em;\">\n",
    "<b>TRY THIS:</b> Run the code in the cell below to feed the x-values from </span>`dataset`\n",
    "<span style=\"font-family:TImes New Roman; font-size:1.25em;\"> and two guesses for the slope and intercept parameters into our sample Python function to predict the y-values that would result from fitting the data to a line.\n",
    "</span>"
   ]
  },
  {
   "cell_type": "code",
   "execution_count": 19,
   "id": "a858933a-7575-4864-a27e-b23eb93f5d2b",
   "metadata": {},
   "outputs": [
    {
     "data": {
      "text/plain": [
       "array([-2, -1,  0,  2,  3,  4,  6,  7,  8, 10, 11, 12])"
      ]
     },
     "execution_count": 19,
     "metadata": {},
     "output_type": "execute_result"
    }
   ],
   "source": [
    "m_guess = 1                              # This is a guess for the value of the slope\n",
    "b_guess = -3                             # This is a guess for the value of the intercept\n",
    "y = linearfunc(xdata, m_guess, b_guess)  # This line runs the function\n",
    "y                                        # This line outputs values of y that correspond to each xdata point\n"
   ]
  },
  {
   "cell_type": "markdown",
   "id": "506bbc92-4932-4aab-9cde-093ec9357c1f",
   "metadata": {},
   "source": [
    "<span style=\"font-family:TImes New Roman; font-size:1.25em;\">\n",
    "<b>TRY THIS:</b> Run the code in the cell below to plot the y-values predicted by the linear model on top of the original </span>`xdata` \n",
    "<span style=\"font-family:TImes New Roman; font-size:1.25em;\">and </span>`ydata`\n",
    "<span style=\"font-family:TImes New Roman; font-size:1.25em;\">from </span>`dataset`."
   ]
  },
  {
   "cell_type": "code",
   "execution_count": 20,
   "id": "3c6d0c27-50e5-49b7-aaad-041aae4735d3",
   "metadata": {},
   "outputs": [
    {
     "data": {
      "text/plain": [
       "<matplotlib.legend.Legend at 0x7f641c806950>"
      ]
     },
     "execution_count": 20,
     "metadata": {},
     "output_type": "execute_result"
    },
    {
     "data": {
      "image/png": "[encoded data removed]",
      "text/plain": [
       "<Figure size 640x480 with 1 Axes>"
      ]
     },
     "metadata": {},
     "output_type": "display_data"
    }
   ],
   "source": [
    "# THIS IS FIGURE 2\n",
    "\n",
    "# Define Figure 2\n",
    "figure2, ax2 = plt.subplots()\n",
    "\n",
    "# Plot the data\n",
    "ax2.plot(xdata, ydata, \n",
    "        linestyle='None', linewidth=2, color='blue', marker='o', label='dataset')\n",
    "\n",
    "# Plot the linear fit\n",
    "ax2.plot(xdata, y, \n",
    "        linestyle='dashed', linewidth=2, color='red', marker='x', label='linear model, unoptimized parameters')\n",
    "\n",
    "# Add text, axis labels, and a legend to your plot\n",
    "ax2.text(1, 9, 'Figure 2', dict(size=20))\n",
    "ax2.set_xlabel('x [unitless]')\n",
    "ax2.set_ylabel('y [unitless]')\n",
    "ax2.legend()"
   ]
  },
  {
   "cell_type": "markdown",
   "id": "9ce8b04b-2b16-4d30-a769-0873ee4fb9e2",
   "metadata": {},
   "source": [
    "<span style=\"font-family:TImes New Roman; font-size:1.25em;\">\n",
    "\n",
    "In the plot above, the linear model (the red line) does a terrible job of predicting the lowest and the highest y-values. For any function that is not a good model of your data, you can do the following to improve the fit:\n",
    "\n",
    "1. Find better values of the parameters (optimize the parameters)\n",
    "2. Use a different model\n",
    "</span>\n",
    "<span style=\"font-family:TImes New Roman; font-size:1.25em;\">\n",
    "Randomly guessing better values of the parameters and hoping that they do a better job would be a bad use of your time (and very boring). Instead, let's use a fitting procedure that already exists in the Python package </span>`scipy`<span style=\"font-family:TImes New Roman; font-size:1.25em;\"> to find the best values of the parameters. You still need to help </span>`scipy`<span style=\"font-family:TImes New Roman; font-size:1.25em;\"> by giving it a good initial guess of the parameters. (Think of it this way: a robot flying in random directions would find Mecca more quickly if it started over the Red Sea instead of over the Puget Sound.)\n",
    "</span>"
   ]
  },
  {
   "cell_type": "markdown",
   "id": "53dca3a2-9e9f-4157-bb29-83f6564e9b28",
   "metadata": {},
   "source": [
    "### Fitting the linear model to the dataset to find the optimal parameters \n",
    "\n",
    "<span style=\"font-family:TImes New Roman; font-size:1.25em;\">\n",
    "<b>TRY THIS:</b> Run the code in the cell below. The <b>right</b> side of the command says it is using an existing method called \"optimize.curve_fit\" to fit a linear function to your previously defined xdata and ydata using the same initial guesses in the plot above. The <b>left</b> side of the command says it will output two different arrays called </span>`popt`<span style=\"font-family:TImes New Roman; font-size:1.25em;\"> and </span>`pcov`<span style=\"font-family:TImes New Roman; font-size:1.25em;\">. Let's focus on only the first at the moment: optimized parameters appear in an array called\n",
    "</span>`popt`."
   ]
  },
  {
   "cell_type": "code",
   "execution_count": 21,
   "id": "39328f70-4d97-4cb5-988d-161d176469f8",
   "metadata": {},
   "outputs": [
    {
     "data": {
      "text/plain": [
       "array([0.51612903, 1.12096776])"
      ]
     },
     "execution_count": 21,
     "metadata": {},
     "output_type": "execute_result"
    }
   ],
   "source": [
    "popt, pcov = sp.optimize.curve_fit(linearfunc, xdata, ydata,  p0=[m_guess, b_guess])\n",
    "popt"
   ]
  },
  {
   "cell_type": "markdown",
   "id": "bf002a4a-493d-4ccc-9f5f-853b441b12bb",
   "metadata": {},
   "source": [
    "<span style=\"font-family:TImes New Roman; font-size:1.25em;\">\n",
    "When you ran the code above, Python gave you an array with values for two parameters, but what do they correspond to? The function </span>`linearfunc(x, m, b)`<span style=\"font-family:TImes New Roman; font-size:1.25em;\"> defined two parameters, </span>`m`<span style=\"font-family:TImes New Roman; font-size:1.25em;\"> and </span>`b`<span style=\"font-family:TImes New Roman; font-size:1.25em;\">, in that order. So the two numbers in the output array </span>`popt`<span style=\"font-family:TImes New Roman; font-size:1.25em;\"> are in that same order. Notice that Python gave you a ridiculous number of digits for those parameters. It is up to you to decide how many digits are significant.\n",
    "</span>\n",
    "</br>\n",
    "</br>\n",
    "<span style=\"font-family:TImes New Roman; font-size:1.25em;\">\n",
    "<b>TRY THIS:</b> Run the code in the cell below to put the first value from the array into a variable called </span>`m_optimized`<span style=\"font-family:TImes New Roman; font-size:1.25em;\">, to put the second value into a variable called </span>`b_optimized`<span style=\"font-family:TImes New Roman; font-size:1.25em;\">, and to \"print out\" the values of </span>`m_optimized`<span style=\"font-family:TImes New Roman; font-size:1.25em;\"> and </span>`b_optimized`<span style=\"font-family:TImes New Roman; font-size:1.25em;\">. "
   ]
  },
  {
   "cell_type": "code",
   "execution_count": 22,
   "id": "1c49b3bc-26a7-4527-9384-e399cf73d3f2",
   "metadata": {},
   "outputs": [
    {
     "name": "stdout",
     "output_type": "stream",
     "text": [
      "0.5161290308311528\n",
      "1.1209677591397178\n"
     ]
    }
   ],
   "source": [
    "m_optimized = popt[0]\n",
    "b_optimized = popt[1]\n",
    "print(m_optimized)\n",
    "print(b_optimized)"
   ]
  },
  {
   "cell_type": "markdown",
   "id": "be166f41-52b8-47b6-8ae3-5f7dbfbf5c84",
   "metadata": {},
   "source": [
    "### Plotting the optimized fit on top of your data\n",
    "\n",
    "<span style=\"font-family:TImes New Roman; font-size:1.25em;\">\n",
    "<b>TRY THIS:</b> Run the code in the cell below to plot a line calculated from the optimized parameters on top of your previous plot of the unoptimized parameters and your original data. Does the optimized line with the optimized parameters to a less bad job of fitting the data?\n",
    "</span>"
   ]
  },
  {
   "cell_type": "code",
   "execution_count": 23,
   "id": "4223a141-9072-4d74-8b74-3249683211c6",
   "metadata": {},
   "outputs": [
    {
     "data": {
      "text/plain": [
       "<matplotlib.legend.Legend at 0x7f64d1020460>"
      ]
     },
     "execution_count": 23,
     "metadata": {},
     "output_type": "execute_result"
    },
    {
     "data": {
      "image/png": "[encoded data removed]",
      "text/plain": [
       "<Figure size 640x480 with 1 Axes>"
      ]
     },
     "metadata": {},
     "output_type": "display_data"
    }
   ],
   "source": [
    "y_guess = linearfunc(xdata, m_guess, b_guess)\n",
    "y_optimized = linearfunc(xdata, m_optimized, b_optimized)\n",
    "\n",
    "# THIS IS FIGURE 3\n",
    "# Figure 3 compares the dataset to the fit model, using the guess and optimized parameters\n",
    "figure3, ax3 = plt.subplots()\n",
    "# plot the original dataset\n",
    "ax3.plot(xdata, ydata, \n",
    "        linestyle='None', linewidth=2, color='blue', marker='o', label='dataset')\n",
    "# plot the model based on guess parameters\n",
    "ax3.plot(xdata, y_guess, \n",
    "        linestyle='dashed', linewidth=2, color='red', marker='x', label='linear model, unoptimized parameters')\n",
    "# plot the model based on optimized parameters\n",
    "ax3.plot(xdata, y_optimized, \n",
    "        linestyle='dashed', linewidth=2, color='black', marker='s', label='linear model, optimized parameters')\n",
    "# Add text, axis labels, and a legend to your plot\n",
    "ax3.text(1, 8, 'Figure 3', dict(size=20))\n",
    "ax3.set_xlabel('x [unitless]')\n",
    "ax3.set_ylabel('y [unitless]')\n",
    "ax3.legend()"
   ]
  },
  {
   "cell_type": "markdown",
   "id": "1f0a227e-875e-4bd1-b84f-70641fa9193a",
   "metadata": {},
   "source": [
    "### Finding errors of the fit\n",
    "\n",
    "<span style=\"font-family:TImes New Roman; font-size:1.25em;\">\n",
    "In this course, you will frequently conduct an error analysis to decide how well a model fits your data. Errors associated with each fit are contained in a \"covariance matrix\", which is the second output, </span>`pcov`<span style=\"font-family:TImes New Roman; font-size:1.25em;\">, from the command you already used above. Here it is again, for convenience:\n",
    "</br>\n",
    "</br>\n",
    "</span>\n",
    "popt, pcov = sp.optimize.curve_fit(linearfunc, xdata, ydata,  p0=[m_guess, b_guess]).\n",
    "</br>\n",
    "</br>  \n",
    "<span style=\"font-family:TImes New Roman; font-size:1.25em;\">The diagonal elements of the </span>`pcov`<span style=\"font-family:TImes New Roman; font-size:1.25em;\"> matrix are the variances associated with each parameter. We can use the values of these variances to calculate the standard error (the standard deviation in this case) associated with each parameter.\n",
    "</span>\n",
    "</br>\n",
    "</br>\n",
    "<span style=\"font-family:TImes New Roman; font-size:1.25em;\">\n",
    "<b>TRY THIS:</b> Run the code in the cell below to have Python tell you what numbers are contained in the covariance array.\n",
    "</span>"
   ]
  },
  {
   "cell_type": "code",
   "execution_count": 24,
   "id": "869f84f7-492e-47d7-8db2-98f779ee72a7",
   "metadata": {},
   "outputs": [
    {
     "data": {
      "text/plain": [
       "array([[ 0.00410705, -0.0328564 ],\n",
       "       [-0.0328564 ,  0.34773023]])"
      ]
     },
     "execution_count": 24,
     "metadata": {},
     "output_type": "execute_result"
    }
   ],
   "source": [
    "pcov"
   ]
  },
  {
   "cell_type": "markdown",
   "id": "91d93f9a-ca56-4d36-a807-d8172d62c558",
   "metadata": {},
   "source": [
    "<span style=\"font-family:TImes New Roman; font-size:1.25em;\">\n",
    "Remember how the first value of the fit corresponds to </span>`m`<span style=\"font-family:TImes New Roman; font-size:1.25em;\"> and the second corresponds to </span>`b`<span style=\"font-family:TImes New Roman; font-size:1.25em;\">? That means that in the covariance array the first diagonal term corresponds to the variance in </span>`m`<span style=\"font-family:TImes New Roman; font-size:1.25em;\"> and the second corresponds to the variance in </span>`b`<span style=\"font-family:TImes New Roman; font-size:1.25em;\">. \n",
    "</br>\n",
    "</br>\n",
    "<b>TRY THIS:</b> Run the code in the cell below to have Python tell you the values of the variances.\n",
    "</span>"
   ]
  },
  {
   "cell_type": "code",
   "execution_count": 25,
   "id": "1c898fd5-80ee-4e52-b224-5f197514d7f1",
   "metadata": {},
   "outputs": [
    {
     "name": "stdout",
     "output_type": "stream",
     "text": [
      "0.0041070501390356555\n",
      "0.3477302348283907\n"
     ]
    }
   ],
   "source": [
    "m_variance = pcov[0, 0]\n",
    "b_variance = pcov[1, 1]\n",
    "print(m_variance)\n",
    "print(b_variance)"
   ]
  },
  {
   "cell_type": "markdown",
   "id": "a68916d3-ed4e-4ec2-87ea-6fe041c7dad7",
   "metadata": {},
   "source": [
    "#### Self-Reflection – Are you prepared to apply what you have learned to the lab part of this class?:\n",
    "\n",
    "<span style=\"font-family:TImes New Roman; font-size:1.25em;\">\n",
    "\n",
    "1. Do you know how to convert the variances above into standard errors of the two parameters?\n",
    "2. Do you know how to write/report the standard errors in a report?\n",
    "3. Do you know how many significant digits to keep?\n",
    "</br>\n",
    "</br>\n",
    "If you have questions about these, please ask a TA or your instructor.\n",
    "</span>"
   ]
  },
  {
   "cell_type": "markdown",
   "id": "617c8384-449e-45e3-ac83-dac53c25f7bb",
   "metadata": {},
   "source": [
    "## \"Cropping\" the data to exclude meaningless points\n",
    "\n",
    "<span style=\"font-family:TImes New Roman; font-size:1.25em;\">\n",
    "\n",
    "Often the first few points of data recorded by an instrument are meaningless. For example, imagine that you start recording data before mixing two components in a reaction (which is a good practice). To analyze your data, you would need to \"crop\" your data set and retain only the points collected after the reactants mixed.\n",
    "\n",
    "In the dataset used in Figures 1, 2, and 3, assume that the reaction begins at $x = 7$. The code in the cell below crops the dataset to start at $x = 7$. It does so by using the fact that Python assigns an \"index\" to each point, where the first point has index = 0, the second has index = 1, and so on.\n",
    "\n",
    "<b>TRY THIS:</b> Run the code in the cell below to crop the data set to start at $x = 7$ and to plot the new, cropped data set in orange symbols on top of the original data set.\n",
    "</span>"
   ]
  },
  {
   "cell_type": "code",
   "execution_count": 26,
   "id": "fa62b2ea-3fa1-4e36-8321-df091329d8df",
   "metadata": {},
   "outputs": [
    {
     "data": {
      "text/plain": [
       "<matplotlib.legend.Legend at 0x7f641af0be50>"
      ]
     },
     "execution_count": 26,
     "metadata": {},
     "output_type": "execute_result"
    },
    {
     "data": {
      "image/png": "[encoded data removed]",
      "text/plain": [
       "<Figure size 640x480 with 1 Axes>"
      ]
     },
     "metadata": {},
     "output_type": "display_data"
    }
   ],
   "source": [
    "# Crop the dataset to start at x = 7\n",
    "# First, find the indexes correspoinding to the datapoints\n",
    "indexes = np.where(xdata >= 7)\n",
    "# Then, use those indexes to select the desired data points\n",
    "xdata_cropped = xdata[indexes]\n",
    "ydata_cropped = ydata[indexes]\n",
    "\n",
    "# Define Figure 4 (which will plot the cropped dataset)\n",
    "figure4, ax4 = plt.subplots()\n",
    "# Plot the original dataset\n",
    "ax4.plot(xdata, ydata, \n",
    "        linestyle='None', linewidth=2, color='blue', marker='o', markersize=9, label='dataset')\n",
    "# Plot the cropped dataset\n",
    "ax4.plot(xdata_cropped, ydata_cropped, \n",
    "        linestyle='None', linewidth=2, color='orange', marker='>', label='cropped dataset')\n",
    "ax4.text(1, 7.5, 'Figure 4', dict(size=20))\n",
    "ax4.set_xlabel('x [unitless]')\n",
    "ax4.set_ylabel('y [unitless]')\n",
    "ax4.legend()"
   ]
  },
  {
   "cell_type": "markdown",
   "id": "dd184451-8400-4cce-a49d-5855dea343c3",
   "metadata": {},
   "source": [
    "### Shifting the data set to start at the origin\n",
    "\n",
    "<span style=\"font-family:TImes New Roman; font-size:1.25em;\"> \n",
    "\n",
    "<b>TRY THIS:</b> Run the code in the cell below to subtract x-values of the data so that the cropped data set starts at $x = 0$ (rather than at $x = 7$). \n",
    "</span>"
   ]
  },
  {
   "cell_type": "code",
   "execution_count": 27,
   "id": "f04a1ccb-1aea-4a68-87e7-faa3d7988697",
   "metadata": {},
   "outputs": [
    {
     "data": {
      "text/plain": [
       "array([0, 2, 3, 4, 6, 7, 8])"
      ]
     },
     "execution_count": 27,
     "metadata": {},
     "output_type": "execute_result"
    }
   ],
   "source": [
    "xdata_cropped_shifted = xdata_cropped - xdata_cropped[0]\n",
    "xdata_cropped_shifted"
   ]
  },
  {
   "cell_type": "markdown",
   "id": "5774cd03-29f7-4a14-bf14-1652ea5cd625",
   "metadata": {},
   "source": [
    "## Fitting Data to a Nonlinear Function"
   ]
  },
  {
   "cell_type": "markdown",
   "id": "b8f948b9-73ef-4f1b-b929-3c5b97ae5ce8",
   "metadata": {},
   "source": [
    "### Defining a nonlinear function\n",
    "\n",
    "<span style=\"font-family:TImes New Roman; font-size:1.25em;\">\n",
    "\n",
    "Figure 3 made the best fit of a <b>linear</b> model to the dataset. However, even when the parameters were optimized, the linear model did a poor job of fitting the data. That's because the data are not linear! What function might describe the data better? At first, the y-values are at a low, constant value, and then they jump up to a new, final value. This looks a lot like the data from one of the experiments you will do in this course. In the experimental data you will record, the first part of the data is meaningless, and then the data jump to the new, final value. The cropped, relevant data are fit by the following nonlinear function:\n",
    "\n",
    "$y = y_f - (y_f - y_i) e^{-kx}$\n",
    "\n",
    "The parameters of the model are the intial y-value, $y_i$, the final y-value, $y_f$, and the rate constant, $k$. In other words, given data for $x$, you can use the parameters $y_i$, $y_f$, and $k$ to find $y$. The code in the cell below says the same thing, in the language of Python.\n",
    "\n",
    "<b>TRY THIS:</b> Run the code in the cell below to define the nonlinear function $y = y_f - (y_f - y_i) e^{-kx}$.\n",
    "</span>"
   ]
  },
  {
   "cell_type": "code",
   "execution_count": 28,
   "id": "f01a0562-4fb4-4323-8c61-fcf7ae0df076",
   "metadata": {},
   "outputs": [],
   "source": [
    "def nonlinearfunc(x, y_initial, y_final, rate_constant):\n",
    "    \"\"\"\n",
    "    A nonlinear function\n",
    "    Input:\n",
    "    x - n by 1 array, x-values\n",
    "    y_initial     - scalar, the first parameter of this function\n",
    "    y_final       - scalar, the second parameter\n",
    "    rate_constant - scalar, the third parameter\n",
    "    Output:\n",
    "    y - n by 1 array, y-values\n",
    "    \"\"\"\n",
    "    y  = y_final - (y_final - y_initial)*np.exp(-rate_constant*x)\n",
    "\n",
    "    return y"
   ]
  },
  {
   "cell_type": "markdown",
   "id": "696b1dbf-ebdc-451a-8f0d-f37e4e9ec725",
   "metadata": {},
   "source": [
    "### Fitting the nonlinear model to the dataset using good guesses of the parameters \n",
    "\n",
    "<span style=\"font-family:TImes New Roman; font-size:1.25em;\">\n",
    "In order for Python to fit the nonlinear equation to the data, it needs to know what the parameters are. One method is to simply tell Python your guesses for the values for the parameters.\n",
    "\n",
    "<b>TRY THIS:</b> Run the code in the cell below to tell Python three values that are good guesses for the parameters $y_i$, $y_f$, and $k$. The last line of the code runs the function.\n",
    "</span>"
   ]
  },
  {
   "cell_type": "code",
   "execution_count": 29,
   "id": "b48c5d62-c815-415f-ac8d-5a455ba5dfe2",
   "metadata": {},
   "outputs": [],
   "source": [
    "# Tell Python your good guesses for the parameters\n",
    "y_initialguess = 3\n",
    "y_finalguess = 9\n",
    "rate_constantguess = (1/4)*np.log(8)\n",
    "\n",
    "# Find predicted y-values based on (1) the x-values of the cropped and shifted dataset, and (2) the parameters\n",
    "y_nonlinearguess = nonlinearfunc(xdata_cropped_shifted, y_initialguess, y_finalguess, rate_constantguess)\n"
   ]
  },
  {
   "cell_type": "markdown",
   "id": "d4f95149-1a8c-4da5-a518-a873238d2f3c",
   "metadata": {},
   "source": [
    "<span style=\"font-family:TImes New Roman; font-size:1.25em;\">\n",
    "A good way to tell if your guesses were good is to plot the resulting y-values on top of your data\n",
    "\n",
    "<b>TRY THIS:</b> Run the code in the cell below to make Figure 5, which plots the nonlinear model based on your guesses.\n",
    "</span>"
   ]
  },
  {
   "cell_type": "code",
   "execution_count": 30,
   "id": "f9d0f65b-8385-479d-a49a-420ac2aa28f3",
   "metadata": {},
   "outputs": [
    {
     "data": {
      "text/plain": [
       "Text(0.1, 8.5, 'Figure 5')"
      ]
     },
     "execution_count": 30,
     "metadata": {},
     "output_type": "execute_result"
    },
    {
     "data": {
      "image/png": "[encoded data removed]",
      "text/plain": [
       "<Figure size 640x480 with 1 Axes>"
      ]
     },
     "metadata": {},
     "output_type": "display_data"
    }
   ],
   "source": [
    "# THIS IS FIGURE 5.\n",
    "# Figure 5 compares the dataset to the predicted y-values... \n",
    "# ... from the nonlinear model based on the guess parameters.\n",
    "figure5, ax5 = plt.subplots()\n",
    "# Plots the original dataset\n",
    "ax5.plot(xdata_cropped_shifted, ydata_cropped, \n",
    "        linestyle='None', linewidth=2, color='orange', markersize=8, marker='>', \n",
    "         label='cropped dataset')\n",
    "# Plots the model based on guessed parameters\n",
    "ax5.plot(xdata_cropped_shifted, y_nonlinearguess, \n",
    "        linestyle='dashed', linewidth=2, color='magenta', marker='*', \n",
    "         label='nonlinear model, guessed parameters')\n",
    "# Adds labels and a legend\n",
    "ax5.set_xlabel('x [unitless]')\n",
    "ax5.set_ylabel('y [unitless]')\n",
    "ax5.legend()\n",
    "ax5.text(0.1, 8.5, 'Figure 5', dict(size=20))"
   ]
  },
  {
   "cell_type": "markdown",
   "id": "34d885a2-d3f2-4f2b-8e41-fc48aff1f3ce",
   "metadata": {},
   "source": [
    "### Fitting the nonlinear model to the dataset to find the optimal parameters \n",
    "\n",
    "<span style=\"font-family:TImes New Roman; font-size:1.25em;\">\n",
    "    \n",
    "Figure 5 shows that nonlinear model with the guessed parameters does a good, but not great, job of fitting the data. Let's start from those guesses and ask Python to find a better fit by optimizing the parameters. To do this, let's minimize work by recycling the same procedure we used for optimizing the linear model in figure 3. \n",
    "</span>\n",
    "\n",
    "<span style=\"font-family:TImes New Roman; font-size:1.25em;\">\n",
    "In Line 1, you are telling Python what the guesses are for the parameters.</br>\n",
    "In Line 2, just as before, the right side of the command says it is using an existing method called \"optimize.curve_fit\". It is fitting a nonlinear function to your cropped and shifted xdata and ydata, using your guesses as initial parameters. The left side of the command says it will output two different arrays called \n",
    "</span>`popt` & `pcov`.\n",
    "</br>\n",
    "</br>\n",
    "<span style=\"font-family:TImes New Roman; font-size:1.25em;\">\n",
    "<b>TRY THIS:</b> Run the code in the cell below to optimize the parameters for the nonlinear fit. \n",
    "</span>"
   ]
  },
  {
   "cell_type": "code",
   "execution_count": 31,
   "id": "0c5adeb8-36cd-49fa-8a35-6e30de9d4fd0",
   "metadata": {},
   "outputs": [],
   "source": [
    "parameter_guess = [y_initialguess, y_finalguess, rate_constantguess]           #Line 1\n",
    "popt_nonlinear, pcov_nonlinear = sp.optimize.curve_fit(nonlinearfunc,\n",
    "                                                       xdata_cropped_shifted, ydata_cropped,\n",
    "                                                       p0=parameter_guess)     #Line 2"
   ]
  },
  {
   "cell_type": "markdown",
   "id": "21cc9630-dbcd-446c-8f8e-f30b71d93162",
   "metadata": {},
   "source": [
    "### Plotting the optimized, nonlinear fit and the optimized, linear fit on top of the data\n",
    "\n",
    "<span style=\"font-family:TImes New Roman; font-size:1.25em;\">\n",
    "\n",
    "We're so close! We've said that the data are nonlinear. We've optimized a fit of the data to an appropriate, nonlinear function. We think that the nonlinear function will a better fit than the linear function. But how can we tell? In this section, let's plot both optimized fits to get a qualitative sense of which is the better, and in the next section we will make error bars to get a quantitative sense of which is better.\n",
    "\n",
    "<b>TRY THIS:</b> Run the code in the cell below to plot the optimized, nonlinear fit and the optimized, linear fit on top of the cropped and shifted data. \n",
    "</span>"
   ]
  },
  {
   "cell_type": "code",
   "execution_count": 32,
   "id": "14a4f4c2-272f-4492-a165-80cac37c7a71",
   "metadata": {},
   "outputs": [
    {
     "data": {
      "text/plain": [
       "Text(0.1, 7.5, 'Figure 6')"
      ]
     },
     "execution_count": 32,
     "metadata": {},
     "output_type": "execute_result"
    },
    {
     "data": {
      "image/png": "[encoded data removed]",
      "text/plain": [
       "<Figure size 640x480 with 1 Axes>"
      ]
     },
     "metadata": {},
     "output_type": "display_data"
    }
   ],
   "source": [
    "# Optimize the fit of the linear function to the cropped and shifted data\n",
    "popt_linear, pcov_linear = sp.optimize.curve_fit(linearfunc, \n",
    "                                                 xdata_cropped_shifted, ydata_cropped,\n",
    "                                                 p0=[m_guess, b_guess])\n",
    "\n",
    "# Get the optimized values of the parameters from the linear model\n",
    "m_optimized = popt_linear[0]\n",
    "b_optimized = popt_linear[1]\n",
    "\n",
    "# Output y-values from the linear model using the optimized parameters\n",
    "y_linearoptimized = linearfunc(xdata_cropped_shifted, m_optimized, b_optimized)\n",
    "\n",
    "# Get the optimized values of the parameters from the nonlinear model\n",
    "y_initialoptimized = popt_nonlinear[0]\n",
    "y_finaloptimized = popt_nonlinear[1]\n",
    "rate_constantoptimized = popt_nonlinear[2]\n",
    "\n",
    "# Output y-values from the linear model using the optimized parameters\n",
    "y_nonlinearoptimized = nonlinearfunc(xdata_cropped_shifted, y_initialoptimized, y_finaloptimized, \n",
    "                                     rate_constantoptimized)\n",
    "\n",
    "# Define Figure 6\n",
    "figure6, ax6 = plt.subplots()\n",
    "\n",
    "# Plot the original, cropped dataset\n",
    "ax6.plot(xdata_cropped_shifted, ydata_cropped, \n",
    "        linestyle='None', linewidth=2, color='orange', markersize=8, marker='>', label='cropped dataset')\n",
    "# Plot the nonlinear model based on optimized parameters\n",
    "ax6.plot(xdata_cropped_shifted, y_nonlinearoptimized, \n",
    "        linestyle='dashed', linewidth=2, color='red', marker='x', label='optimized nonlinear fit')\n",
    "# Plot the linear model based on optimized parameters\n",
    "ax6.plot(xdata_cropped_shifted, y_linearoptimized,\n",
    "        linestyle='dashed', linewidth=2, color='black', marker='x', label='optimized linear fit')\n",
    "# Add labels and a legend\n",
    "ax6.set_xlabel('x [unitless]')\n",
    "ax6.set_ylabel('y [unitless]')\n",
    "ax6.legend()\n",
    "ax6.text(0.1, 7.5, 'Figure 6', dict(size=20))"
   ]
  },
  {
   "cell_type": "markdown",
   "id": "689f494c-f79d-4ef0-9c57-8325ee3d5068",
   "metadata": {},
   "source": [
    "### Errorbars\n",
    "\n",
    "<span style=\"font-family:TImes New Roman; font-size:1.25em;\">\n",
    "\n",
    "In the plot above, it looks like the optimized, nonlinear fit comes closer to the data, but that's just a qualitative observation. To quantitatively assess how good the fit is, we need error bars. Here, we will find the error between the estimated y-values from the model and the y-values of the dataset:\n",
    "</span>"
   ]
  },
  {
   "cell_type": "code",
   "execution_count": 33,
   "id": "e1fc5047-ad49-4138-83ad-d045dd492124",
   "metadata": {},
   "outputs": [
    {
     "name": "stdout",
     "output_type": "stream",
     "text": [
      "The standard error of the fit of the linear model is  0.4829889050601787  [y-units]\n",
      "The standard error of the fit of the nonlinear model is  0.30785885486846537  [y-units]\n"
     ]
    }
   ],
   "source": [
    "error_linearmodel = ydata_cropped -  y_linearoptimized\n",
    "error_nonlinearmodel = ydata_cropped -  y_nonlinearoptimized\n",
    "# now calculate the standard error of the fit model\n",
    "ste_linearmodelfit = np.std(error_linearmodel)\n",
    "ste_nonlinearmodelfit = np.std(error_nonlinearmodel)\n",
    "print('The standard error of the fit of the linear model is ', ste_linearmodelfit, ' [y-units]')\n",
    "print('The standard error of the fit of the nonlinear model is ', ste_nonlinearmodelfit, ' [y-units]')"
   ]
  },
  {
   "cell_type": "markdown",
   "id": "25391a1b-6309-4023-874e-36c2856a01d8",
   "metadata": {},
   "source": [
    "#### Plotting the Errobars\n",
    "\n",
    "<span style=\"font-family:TImes New Roman; font-size:1.25em;\">\n",
    "\n",
    "The following lines of code illustrates how to plot the error bars on top of the existing Figure 6.\n",
    "</span>"
   ]
  },
  {
   "cell_type": "code",
   "execution_count": 34,
   "id": "c7e04614-69d2-47fc-9e37-f318c7be1038",
   "metadata": {},
   "outputs": [
    {
     "data": {
      "image/png": "[encoded data removed]",
      "text/plain": [
       "<Figure size 640x480 with 1 Axes>"
      ]
     },
     "execution_count": 34,
     "metadata": {},
     "output_type": "execute_result"
    }
   ],
   "source": [
    "# plot the error in the fit of the nonlinear model\n",
    "ax6.errorbar(xdata_cropped_shifted, y_nonlinearoptimized,\n",
    "             yerr=ste_nonlinearmodelfit, fmt='none',\n",
    "             ecolor='red', capsize=2)\n",
    "# plot the error of the fit of the linear model\n",
    "ax6.errorbar(xdata_cropped_shifted, y_linearoptimized, \n",
    "             yerr=ste_linearmodelfit, fmt='none',\n",
    "             ecolor='black', capsize=3, alpha=0.4)\n",
    "# \"call\" the figure to display it with the new changes\n",
    "figure6.figure"
   ]
  },
  {
   "cell_type": "markdown",
   "id": "91df394a-bbf9-40d3-9a6f-68a167f6add6",
   "metadata": {},
   "source": [
    "<span style=\"font-family:TImes New Roman; font-size:1.25em;\">\n",
    "\n",
    "In the graph above, the error bars for the fitting of the data to the the nonlinear model are smaller than the error bars for the fitting of the data to the linear model. From this, you can conclude that the nonlinear model does a better job of fitting the dataset.\n",
    "</span>"
   ]
  },
  {
   "cell_type": "markdown",
   "id": "1cdaa55a-a6f0-4983-98c6-aba92f7691cc",
   "metadata": {},
   "source": [
    "# Importing Data from an External Source\n",
    "## You made it! This is the last section of this tutorial"
   ]
  },
  {
   "cell_type": "markdown",
   "id": "ad7681ce-f0e9-4b8a-9fa9-aee5b7cafcd2",
   "metadata": {},
   "source": [
    "<span style=\"font-family:TImes New Roman; font-size:1.25em;\">\n",
    "\n",
    "In this course, you need to know how to read data from a file. This section gives you a very brief illustration. More in-depth examples that apply to particular experiments are in a separate Jupyter notebook called \"Demo\". \n",
    "\n",
    "All the Python code that we have written to help you read and analyze your datasets in this course is stored online in the following GitHub repository: https://github.com/p-engel/uwpchem. To download the code from GitHub into the Jupyter notebook that you are currently working in right now, hover your cursor over the little diamond-shaped icon at the top-left of this window. A little grey box will probably pop up showing you that this icon is called the \"Git Clone\" as shown in the image below:\n",
    "\n",
    "![git clone image](git_clone_step1.png)\n",
    "\n",
    "Click on the Git Clone icon. Next, when a dialog box pops up:\n",
    "\n",
    "1. Enter the URL link to the GitHub repository: https://github.com/p-engel/uwpchem\n",
    "2. Check the following options in the dialog box:\n",
    "\n",
    "   <img src=\"git_clone_step2.png\" alt=\"gitclone2\" style=\"width:500px;\"/>\n",
    "\n",
    "3. Click the \"clone\" box.\n",
    "</span>"
   ]
  },
  {
   "cell_type": "markdown",
   "id": "562e7e2d-0671-438d-9192-1569b2cfbbb8",
   "metadata": {},
   "source": [
    "### Using the \"pchem\" package to read the data file\n",
    "\n",
    "<span style=\"font-family:TImes New Roman; font-size:1.25em;\">\n",
    "\n",
    "The GitHub package called \"pchem\" contains several code modules. You can think of the package as a folder holding several documents. First, you will get the package. Then, you will get a couple of the code modules from the package. Last, you will open a test file called \"husky_data.csv\" and plot it. Let's do it together, step by step. For each step, even if you don't understand what the line of code is doing, try to think about how you would apply the same command to module or a file with a different name, such as a .csv file of data that you will be collecting in your experiments. \n",
    "\n",
    "<b>TRY THIS:</b> First, import the `pchem` package by running the code in the cell below.\n",
    "</span>"
   ]
  },
  {
   "cell_type": "code",
   "execution_count": 2,
   "id": "6393d0d2-f0d2-4178-9229-0e12af1abec5",
   "metadata": {},
   "outputs": [],
   "source": [
    "# preamble\n",
    "import os, sys\n",
    "# Get the current script's directory\n",
    "current_dir = os.path.dirname(os.path.abspath('tutorial.ipynb'))\n",
    "# Get the parent directory by going one level up\n",
    "parent_dir = os.path.dirname(current_dir)\n",
    "top_parent_dir = os.path.dirname(parent_dir)\n",
    "# Add the parent directory to sys.path\n",
    "sys.path.append(top_parent_dir)\n",
    "\n",
    "import uwpchem.pchem"
   ]
  },
  {
   "cell_type": "markdown",
   "id": "912f8187-08df-41bc-b07d-0cef01088381",
   "metadata": {},
   "source": [
    "<span style=\"font-family:TImes New Roman; font-size:1.25em;\">\n",
    "\n",
    "Next, you will get a couple of the code modules from the \"pchem\" package called: `Opener` and `Analyse`. The `Opener` module reads some types of experimental data files, and the `Analyse` module contains code that helps with analyzing the experimental data. \n",
    "\n",
    "<b>TRY THIS:</b> To import the `Opener` and `Analyse` modules, run the code in the cell below.\n",
    "</span>"
   ]
  },
  {
   "cell_type": "code",
   "execution_count": 3,
   "id": "19e6bde0-af99-4392-934b-7f81d735a8c0",
   "metadata": {},
   "outputs": [],
   "source": [
    "from uwpchem.pchem import Opener, Analyse"
   ]
  },
  {
   "cell_type": "markdown",
   "id": "ae433006-09cf-4c26-98ac-e882e6bfed93",
   "metadata": {},
   "source": [
    "<span style=\"font-family:TImes New Roman; font-size:1.25em;\">\n",
    "\n",
    "Our next task is to open the test file called \"husky_data.csv\". \n",
    "Then, use the opener module to read the data file as follows:\n",
    "\n",
    "1. For any file you are working with, you must first tell Python where your data file lives. That is called specifying the path. In less jargony language, you could think of file called \"husky_data.csv\" living in the folder \"Data\", which is in the folder \"uwpchem\".\n",
    "2. Use the `getdata` method in the `Opener` module to read the data in \"husky_data.csv\"\n",
    "\n",
    "<b>TRY THIS:</b> Run the code in the cell below to do steps 1 and 2\n",
    "</span>"
   ]
  },
  {
   "cell_type": "code",
   "execution_count": 37,
   "id": "d74c76a9-4662-470e-86b2-4572546457d6",
   "metadata": {},
   "outputs": [],
   "source": [
    "# 1. Specify the path to the data file\n",
    "filepath = \"~/uwpchem/Data/husky_data.csv\"\n",
    "\n",
    "# 2A. Create an instance of the Opener module (or class) and name it \"OpenThisData\"\n",
    "OpenThisData = Opener()\n",
    "\n",
    "# 2B. Read the data file with \"OpenThisData\" and put it in an array called \"huskyarray\"\n",
    "huskyarray = OpenThisData.getdata(filepath)"
   ]
  },
  {
   "cell_type": "markdown",
   "id": "487bc303-22d4-4115-b374-06864a97d8ce",
   "metadata": {},
   "source": [
    "<span style=\"font-family:TImes New Roman; font-size:1.25em;\">\n",
    "\n",
    "OK! It may seem as if nothing happened, but something important occurred! All your data from the .csv file are now safely stored away in an array called \"husky array\", ready for you to plot. The original .csv file had numbers in two columns, which correspond to x and y values that you will plot.\n",
    "</span>"
   ]
  },
  {
   "cell_type": "markdown",
   "id": "c2c12d20-b35f-4c21-a4c9-a0911810df8a",
   "metadata": {},
   "source": [
    "## CHECKPOINT 3\n",
    "\n",
    "<span style=\"font-family:TImes New Roman; font-size:1.25em;\">\n",
    "In this checkpoint, you will write code in the cell below that plots the data stored in husky_data.csv.</br> (<i>You've got this! In the cell above, you put the data into an array called \"huskyarray\". Earlier in this tutorial, you practiced grabbing data from columns of an array, and plotting those data in a figure. You also practiced labeling your axes and adding other labels. Feel free to cut-and-paste commands or lines of code from other cells above.)</i></br>\n",
    "    • Plot the data in \"huskyarray\" on an x-y plot called Figure 7. </br>\n",
    "    • Join the points with a line instead of plotting them as individual symbols. </br>\n",
    "    • Label the x-axis as \"x [unitless]\" and the y-axis \"y [unitless]\". </br>\n",
    "    • Make another label that says \"Figure 7\" that hovers at x = 10 and Y = 9, in font size 20.</br>\n",
    "    • Take a screenshot of your code and of the resulting Figure 7 and convert it into a single, one-page .pdf file.</br>\n",
    "    • Turn in your .pdf on Canvas at the Checkpoint 3 of Python Tutorial assignment. </br>\n",
    "    • If you are doing this assignment during a tutorial session, you are welcome to show your plot to your instructor and/or teaching assistant before turning it in. </br>\n",
    "    • Then you're done!\n",
    "</span>"
   ]
  },
  {
   "cell_type": "code",
   "execution_count": 38,
   "id": "5b659576-3312-4624-9393-7e3f7deaca5c",
   "metadata": {},
   "outputs": [],
   "source": [
    "# Write your own code in this cell for Checkpoint 3."
   ]
  },
  {
   "cell_type": "code",
   "execution_count": null,
   "id": "cf335c72-6f79-4c48-b645-b08619698f93",
   "metadata": {},
   "outputs": [],
   "source": []
  }
 ],
 "metadata": {
  "kernelspec": {
   "display_name": "Python 3 (ipykernel)",
   "language": "python",
   "name": "python3"
  },
  "language_info": {
   "codemirror_mode": {
    "name": "ipython",
    "version": 3
   },
   "file_extension": ".py",
   "mimetype": "text/x-python",
   "name": "python",
   "nbconvert_exporter": "python",
   "pygments_lexer": "ipython3",
   "version": "3.10.13"
  }
 },
 "nbformat": 4,
 "nbformat_minor": 5
}
