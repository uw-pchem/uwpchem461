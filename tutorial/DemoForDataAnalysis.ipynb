{
 "cells": [
  {
   "cell_type": "markdown",
   "id": "05b656cd-50e3-4769-93af-ab51ea236e5c",
   "metadata": {},
   "source": [
    "# How to get and use the Python packages you need for PChem Lab (CHEM461)"
   ]
  },
  {
   "cell_type": "markdown",
   "id": "d4ebeb93-5a94-4e54-8995-12c67b17d120",
   "metadata": {},
   "source": [
    "In CHEM461, you will take your own data on different types of equipment. You will need to get your data files into a form you can plot and analyze. We've done most of that work for you by writing programs and sections of code tailored to the specific kinds of data files that your equipment will generate. \n",
    "\n",
    "This Jupyter notebook compiles that code. You are welcome to cut-and-paste the code when you are ready to plot and analyze the data you have taken. If you completed the Python Tutorial for CHEM461, you already used a Jupyter notebook to practice plotting data and fitting linear and nonlinear functions to simplified (rather than real) data sets.  \n",
    "\n",
    "The code and text in this notebook were written by Bruce Robinson, C. Praise Anyanwu, and Sarah Keller."
   ]
  },
  {
   "cell_type": "markdown",
   "id": "3dc9d5d8-8bfc-4582-9022-64e00940ca2b",
   "metadata": {},
   "source": [
    "Our first step is to get the code. The first three lines of code in the grey cell below import pre-written, external packages for plotting, for manipulating arrays, and for fitting data, and give them shorter names of `plt`, `np`, and `sp`. The last line imports the custom package called `uwpchem`, which contains modules that will help you analyze some of the datasets you will collect in expermiments.\n",
    "\n",
    "<b>TRY THIS:</b> Run the code in the grey cell below. To do so, click your cursor somewhere in the grey box and hit shift-return (or shift-enter) on your keyboard. For the particular commands in these lines of code, it will appear as if nothing happened. If you get logged out of this Jupyter notebook and enter again, Python will not remember that you ran this code, and you will have to run it again (which is easy to do)."
   ]
  },
  {
   "cell_type": "code",
   "execution_count": null,
   "id": "2eca3e96-85a5-4b38-a860-46cb21f42d0e",
   "metadata": {},
   "outputs": [],
   "source": [
    "import matplotlib.pyplot as plt\n",
    "import numpy as np\n",
    "import scipy as sp\n",
    "import os, sys\n",
    "\n",
    "### preamble \n",
    "# Get the current script's directory\n",
    "current_dir = os.path.dirname(os.path.abspath('DemoForDataAnalysis.ipynb'))\n",
    "# Get the parent directory by going one level up\n",
    "parent_dir = os.path.dirname(current_dir)\n",
    "top_parent_dir = os.path.dirname(parent_dir)\n",
    "# Add the parent directory to sys.path\n",
    "sys.path.append(top_parent_dir)\n",
    "\n",
    "from uwpchem461 import Opener, Analyse"
   ]
  },
  {
   "cell_type": "markdown",
   "id": "11b49b92-7dc6-4bea-97ba-b411259f0a50",
   "metadata": {},
   "source": [
    "## How to use the modules in the package called uwpchem\n",
    "\n",
    "The last line of code in the cell above imports the `Opener` module from the uwpchem package. This module contains programs (or \"methods\") that open data sets. The `Analyse` module contains programs that analyze data sets. \n",
    "\n",
    "The sections below give you pre-written code that are helpful for:\n",
    "* Section 1: The method `getdata` from the module `Opener`\n",
    "* Section 2: The method `caloexp()` from the module `Analyse`\n",
    "* Section 3: The method `getbase()` from the module `Analyse`\n",
    "* Section 4: Identifying peaks \n",
    "\n",
    "<b>TRY THIS:</b> Run the code in the cell below to \"open\" versions of `Opener` and `Analyse` on your computer. For the experts, this is called \"making an instance\"."
   ]
  },
  {
   "cell_type": "code",
   "execution_count": null,
   "id": "eeaa48ab-ea74-452f-858c-8863ec5ef953",
   "metadata": {},
   "outputs": [],
   "source": [
    "# Make \"instances\" of the modules Opener and Analyse\n",
    "opener = Opener()\n",
    "analyse = Analyse()"
   ]
  },
  {
   "cell_type": "markdown",
   "id": "c9f46894-669c-4a98-8e67-7379c3c5983c",
   "metadata": {},
   "source": [
    "### SECTION 1: The method getdata()\n",
    "\n",
    "Unsurprisingly, `getdata()` reads in some data and gives it back to you in a format you can use more easily. You will use it in two different experiments in CHEM461.\n",
    "\n",
    "For any program, including `getdata()`, if you want to know what the formats are for the input and output variables, you can run Python's built-in `help()` command.\n",
    "\n",
    "<b>TRY THIS:</b> Run the code in the cell below to have Python tell you the input and output arguments of `getdata` from the module `Opener`."
   ]
  },
  {
   "cell_type": "code",
   "execution_count": null,
   "id": "86372c8c-6c39-43eb-881d-11aa0736e418",
   "metadata": {},
   "outputs": [],
   "source": [
    "help(opener.getdata)"
   ]
  },
  {
   "cell_type": "markdown",
   "id": "e983b418-1e03-4cdb-a79f-d8c513453675",
   "metadata": {},
   "source": [
    "By running the help code in the cell above, you learned that the method `getdata` reads a file formatted as a .csv file.\n",
    "\n",
    "To read in the data you collect in Experiment 3 and Experiment 42, you are welcome to cut-and-paste the code in the cell below to fit your needs. You can also edit it to reflect how you named the .csv file of your data and where you stored that file.\n",
    "\n",
    "If you have expertise in coding, you are welcome to read in your data some other way, but we won't be able to help if you need to debug alternative methods you use or devise."
   ]
  },
  {
   "cell_type": "code",
   "execution_count": null,
   "id": "4b91bfd1-0b2c-44e8-be7d-44daebedee92",
   "metadata": {},
   "outputs": [],
   "source": [
    "# Importing datasets using the method `get_data`\n",
    "\n",
    "# Experiment 3\n",
    "# The first line of code assumes that the relevant data are in a file named exp3_dataset.csv, \n",
    "# which is stored in the folder called Data, which is in turn stored in the folder called uwpchem.\n",
    "dataset_exp3 = opener.getdata('~/uwpchem461/Data/exp3_dataset.csv')\n",
    "time = dataset_exp3[:, 0]                          # Data for time are in the 1st column\n",
    "temperature = dataset_exp3[:, 1] + 273             # Data for temp are in the 2nd column\n",
    "                                                   # Units of temp are Kelvin\n",
    "\n",
    "# Experiment 42\n",
    "# The first line of code assumes that the relevant data are in a file named exp42_dataset.csv, \n",
    "# which is stored in the folder called Data, which is in turn stored in the folder called uwpchem.\n",
    "dataset_exp42 = opener.getdata('~/uwpchem461/Data/exp42_dataset.csv')\n",
    "wavenumbers = dataset_exp42[1:, 0].astype(float)   # Data for wavenumber are in the 1st column\n",
    "                                                   # Units of wavenumbers are 1/cm\n",
    "transmission = dataset_exp42[1:, 1].astype(float)  # Data for transmission are in the 2nd column\n",
    "                                                   # Units of transmission are percent"
   ]
  },
  {
   "cell_type": "markdown",
   "id": "b3bf3e50-bc9e-44a0-98c3-36ef63b23db3",
   "metadata": {},
   "source": [
    "### SECTION 2: The method caloexp()\n",
    "\n",
    "The method `caloexp()` applies to Experiment 3, which uses calorimetry. The following equation should apply to your data for temperature, $T$, vs. time, $t$:\n",
    "\n",
    "$dT/dt = Rate_{\\mathrm{heat~gain}} - Rate_{\\mathrm{heat~loss}}(T - T_{\\mathrm{room}}) + Rate_{\\mathrm{reaction}} \\Delta T \\exp(-Rate_{\\mathrm{reaction}}(t - t_{\\mathrm{start}}))$\n",
    "\n",
    "This equation is your model.\n",
    "* $Rate_{\\mathrm{heat~gain}}$ is the constant rate at which heat is gained by the calorimeter due to stirring.\n",
    "* $Rate_{\\mathrm{heat~loss}}$ is the rate of heat lost by the calorimeter~; this rate is proportional to the difference between the temperature of the calorimeter, $T$, and the temperature of the room, $T_{\\mathrm{room}}$.\n",
    "* $Rate_{\\mathrm{reaction}}$ is the rate at which the reaction gives heat to the calorimeter.\n",
    "\n",
    "One of your tasks in Experiment 3 is to fit the model to your data. In the sections below, we introduce how to optimize that fit. \n",
    "\n",
    "<b>TRY THIS:</b> Run the code in the cell below to have Python tell you the input and output arguments of `caloexp()` from the module `Analyse`, which has the alias `analyse`."
   ]
  },
  {
   "cell_type": "code",
   "execution_count": null,
   "id": "28e44fb8-91ae-44a6-87ec-ba9bfc681af0",
   "metadata": {},
   "outputs": [],
   "source": [
    "help(analyse.caloexp)"
   ]
  },
  {
   "cell_type": "markdown",
   "id": "22452f36-9cbb-4249-b027-e897b0fbb98d",
   "metadata": {},
   "source": [
    "By running the help code in the cell above, you learned that the method `caloexp()` has TWO classes of input arguments: required arguments and optional <b>keyword arguments</b>. The optional keyword arguments are `tstart`, `Tstart`, and `Tres`. Specifically, the help information above is telling you that if no numbers are specified for these keyword arguments, the code will use its own default values for them, which are `tstart=145`, `Tstart=291`, `Tres=293`. If your experiment uses different times and temperatures than these, then change the default values in the code to reflect your values."
   ]
  },
  {
   "cell_type": "markdown",
   "id": "edf745a0-06f9-4884-82b4-adf18039c395",
   "metadata": {},
   "source": [
    "#### Using the method caloexp() with guesses for the parameters\n",
    "A first step in fitting a model is to make some guesses for the parameters. \n",
    "\n",
    "<b>TRY THIS:</b> Run the code in the cell below make gueses for the relevant parameters of `caloexp()`."
   ]
  },
  {
   "cell_type": "code",
   "execution_count": null,
   "id": "6287369c-9768-43fd-a64e-4d70b546dd89",
   "metadata": {},
   "outputs": [],
   "source": [
    "# The lines below input values for four guesses into the four parameters used by caloexp()\n",
    "# For your own data set, you may decide that you need to use different values!\n",
    "rate_heatgain = 0.003\n",
    "rate_heatloss = 0.001\n",
    "rate_reaction = 0.02\n",
    "DeltaT = 5"
   ]
  },
  {
   "cell_type": "markdown",
   "id": "fa56a423-d392-482a-b9da-5accbf029f22",
   "metadata": {},
   "source": [
    "<b>TRY THIS:</b> Run the code in the cell below to tell `caloexp()` to predict values for the temperature through time based on: 1) the equation for the model, 2) the relevant parameters in the previous cell, and 3) the keyword arguments for $t_{start}$, $T_{start}$, and $T_{room}$. \n",
    "\n",
    "Note that we have NOT optimized our fit yet."
   ]
  },
  {
   "cell_type": "code",
   "execution_count": null,
   "id": "ba02d3f1-4e3a-406e-aea1-2a658c52fc06",
   "metadata": {},
   "outputs": [],
   "source": [
    "# Runs the method caloexp() and puts the results in an array called guess_temperature.\n",
    "# Notice that the line of code below specifies the values of optional keyword arguments.\n",
    "# For your data, different values may be relevant!\n",
    "guess_temperature = analyse.caloexp(time, rate_heatgain, rate_heatloss, rate_reaction, DeltaT,\n",
    "                                   tstart=145, Tstart=291, Troom=291)"
   ]
  },
  {
   "cell_type": "code",
   "execution_count": null,
   "id": "420f9ca2-c04e-41d3-9196-eb5a28381de4",
   "metadata": {},
   "outputs": [],
   "source": [
    "# Plots the result from the unoptimized fit of the model from caloexp() on top of the data\n",
    "\n",
    "# Define Fig. 1\n",
    "fig1, ax1 = plt.subplots()\n",
    "\n",
    "# Plot the original dataset\n",
    "ax1.plot(time, temperature, linestyle='None',\n",
    "         marker='o', color='black', markerfacecolor='none', label='data')\n",
    "\n",
    "# Plot the predicted temperature vs time from the unoptimized model from the method caloexp()\n",
    "ax1.plot(time, guess_temperature, linestyle='dashed', linewidth='2',\n",
    "         color='red', label='unoptimized model')\n",
    "ax1.set_xlabel('time [s]')\n",
    "ax1.set_ylabel('Temperature [K]')\n",
    "ax1.legend()"
   ]
  },
  {
   "cell_type": "markdown",
   "id": "465390ef-c144-434c-90ce-62706e8bc606",
   "metadata": {},
   "source": [
    "#### Using the method caloexp() with optimized parameters\n",
    "The next step in fitting a model is to optimize the parameters. \n",
    "\n",
    "<b>TRY THIS:</b> Run the code in the cell below obtain optimized parameters of `caloexp()`."
   ]
  },
  {
   "cell_type": "code",
   "execution_count": null,
   "id": "13949706-9458-4466-9e17-d453d59cee13",
   "metadata": {},
   "outputs": [],
   "source": [
    "# Telling Python which parameters should be optimized in the fit\n",
    "fitfunc = lambda xdata, rate_heatgain, rate_heatloss, rate_reaction, DeltaT: \\\n",
    "    analyse.caloexp(xdata, rate_heatgain, rate_heatloss, rate_reaction, DeltaT,\n",
    "                    tstart=145, Tstart=291, Troom=291)\n",
    "\n",
    "# the fitting procedure using the model of the method caloexp\n",
    "guess_parameters = [rate_heatgain, rate_heatloss, rate_reaction, DeltaT]\n",
    "popt, pcov = sp.optimize.curve_fit(fitfunc, time, temperature, p0=guess_parameters)"
   ]
  },
  {
   "cell_type": "code",
   "execution_count": null,
   "id": "ecaf5d26-77ae-4b84-91b3-bf2bd783b2d5",
   "metadata": {},
   "outputs": [],
   "source": [
    "# Giving names to the four optimized parameters\n",
    "rate_heatgain_optimized = popt[0]\n",
    "rate_heatloss_optimized = popt[1]\n",
    "rate_reaction_optimized = popt[2]\n",
    "DeltaT_optimized = popt[3]"
   ]
  },
  {
   "cell_type": "code",
   "execution_count": null,
   "id": "a9dce5be-dae6-4189-a1eb-04e1640ea977",
   "metadata": {},
   "outputs": [],
   "source": [
    "# Finding the temperature through time predicted by the model function, using its optimized parameters\n",
    "predicted_temperature = analyse.caloexp(time, \n",
    "                                        rate_heatgain_optimized, \n",
    "                                        rate_heatloss_optimized, \n",
    "                                        rate_reaction_optimized, \n",
    "                                        DeltaT_optimized)"
   ]
  },
  {
   "cell_type": "code",
   "execution_count": null,
   "id": "bc90f425-3747-4ca2-b40c-57d7e0a06c3d",
   "metadata": {},
   "outputs": [],
   "source": [
    "# Plot the model function, with the optimized parameters, against the dataset\n",
    "ax1.plot(time, predicted_temperature, label='optimized model function', linewidth='2', color='deepskyblue')\n",
    "ax1.legend()\n",
    "fig1"
   ]
  },
  {
   "cell_type": "markdown",
   "id": "25b236b6-3c51-4e62-87e6-70c32bd2e023",
   "metadata": {},
   "source": [
    "### SECTION 3: The method getbase()\n",
    "\n",
    "The method `getbase()` applies to Experiment 42, which measures spectra. The code helps you find a baseline for the spectra and subtract it from the dataset. This baseline substraction helps remove noise in the data and make your data more accurate.\n",
    "\n",
    "<b>TRY THIS:</b> Run the code in the cell below to have Python tell you the input and output arguments of `getbase()` from the module `Analyse`, which has the alias `analyse`."
   ]
  },
  {
   "cell_type": "code",
   "execution_count": null,
   "id": "a09bc161-6237-4b63-a2a0-4e6953876ffe",
   "metadata": {},
   "outputs": [],
   "source": [
    "help(analyse.getbase)"
   ]
  },
  {
   "cell_type": "markdown",
   "id": "fd3fbc02-56c9-46c8-a2ee-2ea99e061015",
   "metadata": {},
   "source": [
    "By running the help code above, you learned that the method `getbase()` has TWO types of input arguments: some required arguments and some optional <b>keyword arguments </b>. The keyword arguments are `nfitpts` and `adjust`. The help information above is telling you that if no numbers are specified for these keyword arguments, the code will use its own default values for them, which are `nfitpts=30`, `adjust=25`. If different values are relevant to your spectra, then you need to type in those values instead. For example, `nfitpts` often needs to be adjusted to find a good baseline. \n",
    "\n",
    "The following lines of code demonstrate how to use `getbase()` with its input and output arguments:"
   ]
  },
  {
   "cell_type": "markdown",
   "id": "d2cf3fc6-ea28-4def-952b-344448460ea9",
   "metadata": {},
   "source": [
    "#### First, convert data in transmittance into data in absorbance"
   ]
  },
  {
   "cell_type": "code",
   "execution_count": null,
   "id": "b3f4d556-dc50-4d69-86fb-01bcf4865b83",
   "metadata": {},
   "outputs": [],
   "source": [
    "# convert transmittance to absorbance\n",
    "absorbances = -np.log10(transmission/100)"
   ]
  },
  {
   "cell_type": "code",
   "execution_count": null,
   "id": "60e6b966-33c8-4e39-9366-2c8db6580628",
   "metadata": {},
   "outputs": [],
   "source": [
    "# Figure 4\n",
    "# Two-panel graph: transmission vs wavenumber and absorbance vs wavenumber\n",
    "# The line of code below says the two panels should be plotted in one row\n",
    "# and in two columns, where the size of the whole figure is 15 wide and 5 tall.\n",
    "figure4, axis4 = plt.subplots(nrows=1, ncols=2, figsize=(15, 5))\n",
    "\n",
    "# Plotting the dataset for transmission vs wavenumber\n",
    "axis4[0].plot(wavenumbers, transmission, linestyle='solid',\n",
    "         marker='None', color='royalblue', label='Exp 42, transmission values')\n",
    "axis4[0].set_xlabel('wavenumber [1/cm]')\n",
    "axis4[0].set_ylabel('transmission [%]')\n",
    "axis4[0].legend()\n",
    "\n",
    "# Plotting the dataset for absorbance vs wavenumber\n",
    "axis4[1].plot(wavenumbers, absorbances, linestyle='solid',\n",
    "         marker='None', color='black', label='Exp 42, absorbance values')\n",
    "axis4[1].set_xlabel('wavenumber [1/cm]')\n",
    "axis4[1].set_ylabel('absorbance [unitless]')\n",
    "axis4[1].legend()"
   ]
  },
  {
   "cell_type": "markdown",
   "id": "66e9c7d4-99bb-45a3-be50-2d779893cb64",
   "metadata": {},
   "source": [
    "#### Crop the dataset to leave only one set of peaks of interest"
   ]
  },
  {
   "cell_type": "code",
   "execution_count": null,
   "id": "7e7198bf-5d6e-4915-8529-f7785d721033",
   "metadata": {},
   "outputs": [],
   "source": [
    "# The lines of code below crop the data in Figure 4 to leave only a single set of peaks\n",
    "# This example focuses on the second set of peaks, between the wavenumbers 2575 to 3175 cm^-1.\n",
    "# For your data, different wavenumbers may be relevant!\n",
    "\n",
    "index_set2 = np.where((wavenumbers >= 2575) & (wavenumbers <= 3175))[0]\n",
    "     # Line 1 finds the indexes of the points that have wavenumbers between 2575 and 3175 cm^-1.\n",
    "wavenumbers_set2 = wavenumbers[index_set2]\n",
    "     # Line 2 saves a list of wavenumbers with those indexes in a new array called wavenumbers_set2\n",
    "absorbances_set2 = absorbances[index_set2]\n",
    "     # Line 2 saves a list of absorbances with those indexes in a new array called absorbances_set2"
   ]
  },
  {
   "cell_type": "code",
   "execution_count": null,
   "id": "5330d195-6af0-4a0b-8602-38a9f44eaf2b",
   "metadata": {},
   "outputs": [],
   "source": [
    "# Figure 5: Graph of absorbance vs wavenumber for the cropped data\n",
    "# This example focuses on the second set of peaks, between the wavenumbers 2575 to 3175 cm^-1.\n",
    "# For your data, different wavenumbers may be relevant!\n",
    "figure5, axis5 = plt.subplots()\n",
    "\n",
    "# Plotting the cropped dataset for absorbance vs wavenumber\n",
    "axis5.plot(wavenumbers_set2, absorbances_set2, linestyle='solid',\n",
    "         marker='None', color='black', label='Second set of peaks from Exp 42 dataset')\n",
    "axis5.set_xlabel('wavenumber [1/cm]')\n",
    "axis5.set_ylabel('absorbance [unitless]')\n",
    "axis5.legend()"
   ]
  },
  {
   "cell_type": "markdown",
   "id": "714ef165-a92a-47a0-8c58-c413e74f0400",
   "metadata": {},
   "source": [
    "#### Create an array of the cropped dataset for a baseline correction"
   ]
  },
  {
   "cell_type": "markdown",
   "id": "6cf7a8e9-a09a-450a-9051-d6a71a5ae227",
   "metadata": {},
   "source": [
    "Once you have plotted Fig. 5 above, a best practice is to correct the basline of the dataset. This means shifting the data so that the lowest values are at zero. We'll do that using the method `getbase()`, following the steps below."
   ]
  },
  {
   "cell_type": "code",
   "execution_count": null,
   "id": "c94c2f13-ee9e-466d-a35c-2b789f3690ed",
   "metadata": {},
   "outputs": [],
   "source": [
    "# Create new array of the dataset with dimensions n x 2, \n",
    "# where the x-values are wavenumbers and the y-values are absorbances.\n",
    "dataset_set2 = [[wavenumber_set2, absorbances_set2[index]]\n",
    "                      for index, wavenumber_set2 in enumerate(wavenumbers_set2)]"
   ]
  },
  {
   "cell_type": "code",
   "execution_count": null,
   "id": "97bffa08-ce21-458e-bec6-91839eb84d09",
   "metadata": {},
   "outputs": [],
   "source": [
    "# Define a value called \"hibar\" that is HIGHER than the troughs between each peak. \n",
    "# For your data, a different value of hibar may be relevant!\n",
    "hibar = 0.14\n",
    "\n",
    "# Run the method getbase() on the cropped dataset to calculate the baseline for that dataset\n",
    "baseline_set2 = analyse.getbase(dataset_set2, hibar)"
   ]
  },
  {
   "cell_type": "code",
   "execution_count": null,
   "id": "7aa9f174-08bf-486a-9ef8-b6bc0b2eb838",
   "metadata": {},
   "outputs": [],
   "source": [
    "# Plot the baseline over the cropped dataset in the existing Figure 5\n",
    "\n",
    "axis5.plot(wavenumbers_set2, baseline_set2, linestyle='solid',\n",
    "         marker='None', color='red', label='Baseline')\n",
    "axis5.legend()"
   ]
  },
  {
   "cell_type": "code",
   "execution_count": null,
   "id": "8762d732-2adc-49aa-833b-9ba654ef2752",
   "metadata": {},
   "outputs": [],
   "source": [
    "# Show the graph of figure 5, with the baseline\n",
    "figure5"
   ]
  },
  {
   "cell_type": "markdown",
   "id": "bebcc744-0ebd-4c8c-83fc-6a77f8c46329",
   "metadata": {},
   "source": [
    "By eye, verify that the baseline seems to be (mostly) following the bottom of the peaks. If so, you are ready to move on to the next step."
   ]
  },
  {
   "cell_type": "markdown",
   "id": "b1262375-4b01-4cbf-acea-58d6482f192b",
   "metadata": {},
   "source": [
    "#### Baseline substraction\n",
    "Now, you can subtract the baseline from the datset by running the code in the following cells. In doing do, you will generate a corrected set of data."
   ]
  },
  {
   "cell_type": "code",
   "execution_count": null,
   "id": "143e4267-3e52-4a13-b749-284d92135035",
   "metadata": {},
   "outputs": [],
   "source": [
    "# The single line of code below generates a new array of data.\n",
    "# The name of the new array (absorbances_set2_corrected) reflects that the data are\n",
    "#      - for absorbances vs wavenumber\n",
    "#      - cropped to leave only the second set of peaks\n",
    "#      - shifted to subtract the baseline\n",
    "\n",
    "absorbances_set2_corrected = absorbances_set2 - baseline_set2\n",
    "# dataset_set2_corrected = [[wavenumber_set2, absorbances_set2_corrected[index]] \n",
    "#                            for index, wavenumber_set2 in enumerate(wavenumbers_set2)]"
   ]
  },
  {
   "cell_type": "code",
   "execution_count": null,
   "id": "7d24f34a-e2f9-42ec-939e-40d7c32e0bb2",
   "metadata": {},
   "outputs": [],
   "source": [
    "# Figure 6: Plot the new array of data. These data are \n",
    "#           - for absorbance vs wavenumber\n",
    "#           - cropped to leave only the second set of peaks, and\n",
    "#           - shifted to subtract the baseline\n",
    "figure6, axis6 = plt.subplots()\n",
    "\n",
    "axis6.plot(wavenumbers_set2, absorbances_set2_corrected, linestyle='solid',\n",
    "         marker='None', color='black', label='Second set of peaks from Exp 42')\n",
    "axis6.set_xlabel('wavenumber [1/cm]')\n",
    "axis6.set_ylabel('absorbance [unitless]')\n",
    "axis6.set_title('Second set of peaks, with substracted baseline')\n",
    "axis6.legend()\n",
    "axis6.text(3000, 2.5, 'Figure 6', dict(size=25))"
   ]
  },
  {
   "cell_type": "markdown",
   "id": "2f7b503d-6a13-4483-a334-a3e7d0f09f3d",
   "metadata": {},
   "source": [
    "If everything went well, the figure right above this text (Figure 6) should show a set of peaks that now has a much flatter baseline, with minimum values near absorbance = 0.0. These changes should make it easier to accurately locate the peaks in the spectra."
   ]
  },
  {
   "cell_type": "markdown",
   "id": "26c18ac3-b18b-4f6b-800b-ca9f22001a33",
   "metadata": {},
   "source": [
    "## SECTION 4: Locating all peaks in a set\n",
    "To locate individual peaks within the set of peaks in Figure 6, you can use the following code:"
   ]
  },
  {
   "cell_type": "code",
   "execution_count": null,
   "id": "eeabdee3-710e-4826-b82f-8b574aaf27e5",
   "metadata": {},
   "outputs": [],
   "source": [
    "# The line code below puts the indexes of the peaks in an array called indexes_set2_peaks\n",
    "indexes_set2_peaks, _ = sp.signal.find_peaks(absorbances_set2_corrected, height=0.14)\n",
    "# The code will find peaks only when the y-values are greater than the `height` value specified"
   ]
  },
  {
   "cell_type": "code",
   "execution_count": null,
   "id": "8cee80cb-fbb8-42b0-9ec1-6e00b3d15f20",
   "metadata": {},
   "outputs": [],
   "source": [
    "# Plot the locations of the peaks over the cropped dataset in the existing Figure 6\n",
    "axis6.plot(wavenumbers_set2[indexes_set2_peaks], \n",
    "           absorbances_set2_corrected[indexes_set2_peaks],\n",
    "          marker='x', color='darkorange', linestyle='None', label='Individual peaks in the second set')\n",
    "axis6.legend()"
   ]
  },
  {
   "cell_type": "code",
   "execution_count": null,
   "id": "ef3efb1e-520f-4eb0-ab28-744f2e2536b3",
   "metadata": {},
   "outputs": [],
   "source": []
  },
  {
   "cell_type": "markdown",
   "id": "417390c1-e5b2-4a81-98b7-a7d279ce987c",
   "metadata": {},
   "source": [
    "We are done with the coding part. Now, you get to do the fun part -- the thinking! Return to your lab writeup to find what to do next. Your next step is likely to determine which sets of peaks belong to which isotope and to understand why the spectra look like they do."
   ]
  }
 ],
 "metadata": {
  "kernelspec": {
   "display_name": "Python 3 (ipykernel)",
   "language": "python",
   "name": "python3"
  },
  "language_info": {
   "codemirror_mode": {
    "name": "ipython",
    "version": 3
   },
   "file_extension": ".py",
   "mimetype": "text/x-python",
   "name": "python",
   "nbconvert_exporter": "python",
   "pygments_lexer": "ipython3",
   "version": "3.10.13"
  }
 },
 "nbformat": 4,
 "nbformat_minor": 5
}
